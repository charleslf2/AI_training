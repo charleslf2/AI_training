{
 "cells": [
  {
   "cell_type": "code",
   "execution_count": 1,
   "id": "66cfce02",
   "metadata": {
    "execution": {
     "iopub.execute_input": "2021-10-01T17:07:23.964192Z",
     "iopub.status.busy": "2021-10-01T17:07:23.962178Z",
     "iopub.status.idle": "2021-10-01T17:07:23.965009Z",
     "shell.execute_reply": "2021-10-01T17:07:23.965498Z"
    },
    "papermill": {
     "duration": 0.044837,
     "end_time": "2021-10-01T17:07:23.965853",
     "exception": false,
     "start_time": "2021-10-01T17:07:23.921016",
     "status": "completed"
    },
    "tags": []
   },
   "outputs": [],
   "source": [
    "# In this project i will try to build machine learnng model to detected credit card fraud."
   ]
  },
  {
   "cell_type": "code",
   "execution_count": 2,
   "id": "60fcf790",
   "metadata": {
    "execution": {
     "iopub.execute_input": "2021-10-01T17:07:24.042928Z",
     "iopub.status.busy": "2021-10-01T17:07:24.042226Z",
     "iopub.status.idle": "2021-10-01T17:07:25.048929Z",
     "shell.execute_reply": "2021-10-01T17:07:25.048366Z",
     "shell.execute_reply.started": "2021-10-01T17:00:37.313438Z"
    },
    "papermill": {
     "duration": 1.050126,
     "end_time": "2021-10-01T17:07:25.049088",
     "exception": false,
     "start_time": "2021-10-01T17:07:23.998962",
     "status": "completed"
    },
    "tags": []
   },
   "outputs": [],
   "source": [
    "# import libraries\n",
    "import numpy as np \n",
    "import pandas as pd \n",
    "import matplotlib.pyplot as plt  \n",
    "import seaborn as sns"
   ]
  },
  {
   "cell_type": "code",
   "execution_count": 3,
   "id": "b9b6ebd0",
   "metadata": {
    "execution": {
     "iopub.execute_input": "2021-10-01T17:07:25.120916Z",
     "iopub.status.busy": "2021-10-01T17:07:25.120226Z",
     "iopub.status.idle": "2021-10-01T17:07:25.147815Z",
     "shell.execute_reply": "2021-10-01T17:07:25.147202Z",
     "shell.execute_reply.started": "2021-10-01T17:00:38.301558Z"
    },
    "papermill": {
     "duration": 0.065015,
     "end_time": "2021-10-01T17:07:25.147969",
     "exception": false,
     "start_time": "2021-10-01T17:07:25.082954",
     "status": "completed"
    },
    "tags": []
   },
   "outputs": [],
   "source": [
    "data=pd.read_csv(r\"../input/abstract-data-set-for-credit-card-fraud-detection/creditcardcsvpresent.csv\")"
   ]
  },
  {
   "cell_type": "code",
   "execution_count": 4,
   "id": "f6835f18",
   "metadata": {
    "execution": {
     "iopub.execute_input": "2021-10-01T17:07:25.222507Z",
     "iopub.status.busy": "2021-10-01T17:07:25.221641Z",
     "iopub.status.idle": "2021-10-01T17:07:25.241528Z",
     "shell.execute_reply": "2021-10-01T17:07:25.242036Z",
     "shell.execute_reply.started": "2021-10-01T17:00:57.165083Z"
    },
    "papermill": {
     "duration": 0.061544,
     "end_time": "2021-10-01T17:07:25.242207",
     "exception": false,
     "start_time": "2021-10-01T17:07:25.180663",
     "status": "completed"
    },
    "tags": []
   },
   "outputs": [
    {
     "data": {
      "text/html": [
       "<div>\n",
       "<style scoped>\n",
       "    .dataframe tbody tr th:only-of-type {\n",
       "        vertical-align: middle;\n",
       "    }\n",
       "\n",
       "    .dataframe tbody tr th {\n",
       "        vertical-align: top;\n",
       "    }\n",
       "\n",
       "    .dataframe thead th {\n",
       "        text-align: right;\n",
       "    }\n",
       "</style>\n",
       "<table border=\"1\" class=\"dataframe\">\n",
       "  <thead>\n",
       "    <tr style=\"text-align: right;\">\n",
       "      <th></th>\n",
       "      <th>Merchant_id</th>\n",
       "      <th>Transaction date</th>\n",
       "      <th>Average Amount/transaction/day</th>\n",
       "      <th>Transaction_amount</th>\n",
       "      <th>Is declined</th>\n",
       "      <th>Total Number of declines/day</th>\n",
       "      <th>isForeignTransaction</th>\n",
       "      <th>isHighRiskCountry</th>\n",
       "      <th>Daily_chargeback_avg_amt</th>\n",
       "      <th>6_month_avg_chbk_amt</th>\n",
       "      <th>6-month_chbk_freq</th>\n",
       "      <th>isFradulent</th>\n",
       "    </tr>\n",
       "  </thead>\n",
       "  <tbody>\n",
       "    <tr>\n",
       "      <th>0</th>\n",
       "      <td>3160040998</td>\n",
       "      <td>NaN</td>\n",
       "      <td>100.0</td>\n",
       "      <td>3000.0</td>\n",
       "      <td>N</td>\n",
       "      <td>5</td>\n",
       "      <td>Y</td>\n",
       "      <td>Y</td>\n",
       "      <td>0</td>\n",
       "      <td>0.0</td>\n",
       "      <td>0</td>\n",
       "      <td>Y</td>\n",
       "    </tr>\n",
       "    <tr>\n",
       "      <th>1</th>\n",
       "      <td>3160040998</td>\n",
       "      <td>NaN</td>\n",
       "      <td>100.0</td>\n",
       "      <td>4300.0</td>\n",
       "      <td>N</td>\n",
       "      <td>5</td>\n",
       "      <td>Y</td>\n",
       "      <td>Y</td>\n",
       "      <td>0</td>\n",
       "      <td>0.0</td>\n",
       "      <td>0</td>\n",
       "      <td>Y</td>\n",
       "    </tr>\n",
       "    <tr>\n",
       "      <th>2</th>\n",
       "      <td>3160041896</td>\n",
       "      <td>NaN</td>\n",
       "      <td>185.5</td>\n",
       "      <td>4823.0</td>\n",
       "      <td>Y</td>\n",
       "      <td>5</td>\n",
       "      <td>N</td>\n",
       "      <td>N</td>\n",
       "      <td>0</td>\n",
       "      <td>0.0</td>\n",
       "      <td>0</td>\n",
       "      <td>Y</td>\n",
       "    </tr>\n",
       "    <tr>\n",
       "      <th>3</th>\n",
       "      <td>3160141996</td>\n",
       "      <td>NaN</td>\n",
       "      <td>185.5</td>\n",
       "      <td>5008.5</td>\n",
       "      <td>Y</td>\n",
       "      <td>8</td>\n",
       "      <td>N</td>\n",
       "      <td>N</td>\n",
       "      <td>0</td>\n",
       "      <td>0.0</td>\n",
       "      <td>0</td>\n",
       "      <td>Y</td>\n",
       "    </tr>\n",
       "    <tr>\n",
       "      <th>4</th>\n",
       "      <td>3160241992</td>\n",
       "      <td>NaN</td>\n",
       "      <td>500.0</td>\n",
       "      <td>26000.0</td>\n",
       "      <td>N</td>\n",
       "      <td>0</td>\n",
       "      <td>Y</td>\n",
       "      <td>Y</td>\n",
       "      <td>800</td>\n",
       "      <td>677.2</td>\n",
       "      <td>6</td>\n",
       "      <td>Y</td>\n",
       "    </tr>\n",
       "  </tbody>\n",
       "</table>\n",
       "</div>"
      ],
      "text/plain": [
       "   Merchant_id  Transaction date  Average Amount/transaction/day  \\\n",
       "0   3160040998               NaN                           100.0   \n",
       "1   3160040998               NaN                           100.0   \n",
       "2   3160041896               NaN                           185.5   \n",
       "3   3160141996               NaN                           185.5   \n",
       "4   3160241992               NaN                           500.0   \n",
       "\n",
       "   Transaction_amount Is declined  Total Number of declines/day  \\\n",
       "0              3000.0           N                             5   \n",
       "1              4300.0           N                             5   \n",
       "2              4823.0           Y                             5   \n",
       "3              5008.5           Y                             8   \n",
       "4             26000.0           N                             0   \n",
       "\n",
       "  isForeignTransaction isHighRiskCountry  Daily_chargeback_avg_amt  \\\n",
       "0                    Y                 Y                         0   \n",
       "1                    Y                 Y                         0   \n",
       "2                    N                 N                         0   \n",
       "3                    N                 N                         0   \n",
       "4                    Y                 Y                       800   \n",
       "\n",
       "   6_month_avg_chbk_amt  6-month_chbk_freq isFradulent  \n",
       "0                   0.0                  0           Y  \n",
       "1                   0.0                  0           Y  \n",
       "2                   0.0                  0           Y  \n",
       "3                   0.0                  0           Y  \n",
       "4                 677.2                  6           Y  "
      ]
     },
     "execution_count": 4,
     "metadata": {},
     "output_type": "execute_result"
    }
   ],
   "source": [
    "data.head()"
   ]
  },
  {
   "cell_type": "code",
   "execution_count": 5,
   "id": "01458539",
   "metadata": {
    "execution": {
     "iopub.execute_input": "2021-10-01T17:07:25.314600Z",
     "iopub.status.busy": "2021-10-01T17:07:25.311608Z",
     "iopub.status.idle": "2021-10-01T17:07:25.316507Z",
     "shell.execute_reply": "2021-10-01T17:07:25.317021Z"
    },
    "papermill": {
     "duration": 0.041419,
     "end_time": "2021-10-01T17:07:25.317209",
     "exception": false,
     "start_time": "2021-10-01T17:07:25.275790",
     "status": "completed"
    },
    "tags": []
   },
   "outputs": [],
   "source": [
    "# my target variables is \"isFradulent\""
   ]
  },
  {
   "cell_type": "code",
   "execution_count": 6,
   "id": "2fa10fae",
   "metadata": {
    "execution": {
     "iopub.execute_input": "2021-10-01T17:07:25.387833Z",
     "iopub.status.busy": "2021-10-01T17:07:25.386856Z",
     "iopub.status.idle": "2021-10-01T17:07:25.392684Z",
     "shell.execute_reply": "2021-10-01T17:07:25.391930Z",
     "shell.execute_reply.started": "2021-10-01T17:01:01.162645Z"
    },
    "papermill": {
     "duration": 0.042466,
     "end_time": "2021-10-01T17:07:25.392891",
     "exception": false,
     "start_time": "2021-10-01T17:07:25.350425",
     "status": "completed"
    },
    "tags": []
   },
   "outputs": [],
   "source": [
    "# copy \n",
    "df=data.copy()"
   ]
  },
  {
   "cell_type": "code",
   "execution_count": 7,
   "id": "e8b9d132",
   "metadata": {
    "execution": {
     "iopub.execute_input": "2021-10-01T17:07:25.469174Z",
     "iopub.status.busy": "2021-10-01T17:07:25.468228Z",
     "iopub.status.idle": "2021-10-01T17:07:25.471632Z",
     "shell.execute_reply": "2021-10-01T17:07:25.472158Z",
     "shell.execute_reply.started": "2021-10-01T17:01:03.918129Z"
    },
    "papermill": {
     "duration": 0.044598,
     "end_time": "2021-10-01T17:07:25.472342",
     "exception": false,
     "start_time": "2021-10-01T17:07:25.427744",
     "status": "completed"
    },
    "tags": []
   },
   "outputs": [
    {
     "data": {
      "text/plain": [
       "(3075, 12)"
      ]
     },
     "execution_count": 7,
     "metadata": {},
     "output_type": "execute_result"
    }
   ],
   "source": [
    "# shape for my data\n",
    "df.shape\n"
   ]
  },
  {
   "cell_type": "code",
   "execution_count": 8,
   "id": "9596ef55",
   "metadata": {
    "execution": {
     "iopub.execute_input": "2021-10-01T17:07:25.545568Z",
     "iopub.status.busy": "2021-10-01T17:07:25.544437Z",
     "iopub.status.idle": "2021-10-01T17:07:25.548675Z",
     "shell.execute_reply": "2021-10-01T17:07:25.548147Z"
    },
    "papermill": {
     "duration": 0.041923,
     "end_time": "2021-10-01T17:07:25.548844",
     "exception": false,
     "start_time": "2021-10-01T17:07:25.506921",
     "status": "completed"
    },
    "tags": []
   },
   "outputs": [],
   "source": [
    "# we have 3075 lines and 12 columns"
   ]
  },
  {
   "cell_type": "code",
   "execution_count": 9,
   "id": "b8a01f48",
   "metadata": {
    "execution": {
     "iopub.execute_input": "2021-10-01T17:07:25.622101Z",
     "iopub.status.busy": "2021-10-01T17:07:25.621315Z",
     "iopub.status.idle": "2021-10-01T17:07:25.624355Z",
     "shell.execute_reply": "2021-10-01T17:07:25.624859Z",
     "shell.execute_reply.started": "2021-10-01T17:01:06.547454Z"
    },
    "papermill": {
     "duration": 0.042568,
     "end_time": "2021-10-01T17:07:25.625048",
     "exception": false,
     "start_time": "2021-10-01T17:07:25.582480",
     "status": "completed"
    },
    "tags": []
   },
   "outputs": [
    {
     "data": {
      "text/plain": [
       "Index(['Merchant_id', 'Transaction date', 'Average Amount/transaction/day',\n",
       "       'Transaction_amount', 'Is declined', 'Total Number of declines/day',\n",
       "       'isForeignTransaction', 'isHighRiskCountry', 'Daily_chargeback_avg_amt',\n",
       "       '6_month_avg_chbk_amt', '6-month_chbk_freq', 'isFradulent'],\n",
       "      dtype='object')"
      ]
     },
     "execution_count": 9,
     "metadata": {},
     "output_type": "execute_result"
    }
   ],
   "source": [
    "# columns\n",
    "df.columns"
   ]
  },
  {
   "cell_type": "code",
   "execution_count": 10,
   "id": "c21aee49",
   "metadata": {
    "execution": {
     "iopub.execute_input": "2021-10-01T17:07:25.700351Z",
     "iopub.status.busy": "2021-10-01T17:07:25.699382Z",
     "iopub.status.idle": "2021-10-01T17:07:25.724625Z",
     "shell.execute_reply": "2021-10-01T17:07:25.724001Z",
     "shell.execute_reply.started": "2021-10-01T17:01:09.303983Z"
    },
    "papermill": {
     "duration": 0.06611,
     "end_time": "2021-10-01T17:07:25.724789",
     "exception": false,
     "start_time": "2021-10-01T17:07:25.658679",
     "status": "completed"
    },
    "tags": []
   },
   "outputs": [
    {
     "name": "stdout",
     "output_type": "stream",
     "text": [
      "<class 'pandas.core.frame.DataFrame'>\n",
      "RangeIndex: 3075 entries, 0 to 3074\n",
      "Data columns (total 12 columns):\n",
      " #   Column                          Non-Null Count  Dtype  \n",
      "---  ------                          --------------  -----  \n",
      " 0   Merchant_id                     3075 non-null   int64  \n",
      " 1   Transaction date                0 non-null      float64\n",
      " 2   Average Amount/transaction/day  3075 non-null   float64\n",
      " 3   Transaction_amount              3075 non-null   float64\n",
      " 4   Is declined                     3075 non-null   object \n",
      " 5   Total Number of declines/day    3075 non-null   int64  \n",
      " 6   isForeignTransaction            3075 non-null   object \n",
      " 7   isHighRiskCountry               3075 non-null   object \n",
      " 8   Daily_chargeback_avg_amt        3075 non-null   int64  \n",
      " 9   6_month_avg_chbk_amt            3075 non-null   float64\n",
      " 10  6-month_chbk_freq               3075 non-null   int64  \n",
      " 11  isFradulent                     3075 non-null   object \n",
      "dtypes: float64(4), int64(4), object(4)\n",
      "memory usage: 288.4+ KB\n"
     ]
    }
   ],
   "source": [
    " # missing values\n",
    " df.info()"
   ]
  },
  {
   "cell_type": "code",
   "execution_count": 11,
   "id": "49b08fab",
   "metadata": {
    "execution": {
     "iopub.execute_input": "2021-10-01T17:07:25.800704Z",
     "iopub.status.busy": "2021-10-01T17:07:25.800029Z",
     "iopub.status.idle": "2021-10-01T17:07:25.803384Z",
     "shell.execute_reply": "2021-10-01T17:07:25.803888Z",
     "shell.execute_reply.started": "2021-10-01T17:01:12.602055Z"
    },
    "papermill": {
     "duration": 0.044895,
     "end_time": "2021-10-01T17:07:25.804087",
     "exception": false,
     "start_time": "2021-10-01T17:07:25.759192",
     "status": "completed"
    },
    "tags": []
   },
   "outputs": [
    {
     "data": {
      "text/plain": [
       "int64      4\n",
       "float64    4\n",
       "object     4\n",
       "dtype: int64"
      ]
     },
     "execution_count": 11,
     "metadata": {},
     "output_type": "execute_result"
    }
   ],
   "source": [
    "# data types\n",
    "df.dtypes.value_counts()"
   ]
  },
  {
   "cell_type": "code",
   "execution_count": 12,
   "id": "8bdd9ee7",
   "metadata": {
    "execution": {
     "iopub.execute_input": "2021-10-01T17:07:25.877987Z",
     "iopub.status.busy": "2021-10-01T17:07:25.877262Z",
     "iopub.status.idle": "2021-10-01T17:07:25.884202Z",
     "shell.execute_reply": "2021-10-01T17:07:25.884719Z",
     "shell.execute_reply.started": "2021-10-01T17:01:15.339009Z"
    },
    "papermill": {
     "duration": 0.045925,
     "end_time": "2021-10-01T17:07:25.884937",
     "exception": false,
     "start_time": "2021-10-01T17:07:25.839012",
     "status": "completed"
    },
    "tags": []
   },
   "outputs": [
    {
     "name": "stdout",
     "output_type": "stream",
     "text": [
      "Is declined\n",
      "isForeignTransaction\n",
      "isHighRiskCountry\n",
      "isFradulent\n"
     ]
    }
   ],
   "source": [
    "# qualitative variables\n",
    "for col in df.select_dtypes(\"object\"):\n",
    "    print(col)"
   ]
  },
  {
   "cell_type": "code",
   "execution_count": 13,
   "id": "206c0a58",
   "metadata": {
    "execution": {
     "iopub.execute_input": "2021-10-01T17:07:25.958274Z",
     "iopub.status.busy": "2021-10-01T17:07:25.957551Z",
     "iopub.status.idle": "2021-10-01T17:07:26.400328Z",
     "shell.execute_reply": "2021-10-01T17:07:26.399619Z",
     "shell.execute_reply.started": "2021-10-01T17:01:18.834901Z"
    },
    "papermill": {
     "duration": 0.480711,
     "end_time": "2021-10-01T17:07:26.400494",
     "exception": false,
     "start_time": "2021-10-01T17:07:25.919783",
     "status": "completed"
    },
    "tags": []
   },
   "outputs": [
    {
     "data": {
      "image/png": "[encoded data removed]",
      "text/plain": [
       "<Figure size 432x288 with 1 Axes>"
      ]
     },
     "metadata": {},
     "output_type": "display_data"
    },
    {
     "data": {
      "image/png": "[encoded data removed]",
      "text/plain": [
       "<Figure size 432x288 with 1 Axes>"
      ]
     },
     "metadata": {},
     "output_type": "display_data"
    },
    {
     "data": {
      "image/png": "[encoded data removed]",
      "text/plain": [
       "<Figure size 432x288 with 1 Axes>"
      ]
     },
     "metadata": {},
     "output_type": "display_data"
    },
    {
     "data": {
      "image/png": "[encoded data removed]",
      "text/plain": [
       "<Figure size 432x288 with 1 Axes>"
      ]
     },
     "metadata": {},
     "output_type": "display_data"
    }
   ],
   "source": [
    "# visualize qualitative variables\n",
    "for col in df.select_dtypes(\"object\"):\n",
    "    plt.figure()\n",
    "    df[col].value_counts(normalize=True).plot.pie()\n"
   ]
  },
  {
   "cell_type": "code",
   "execution_count": 14,
   "id": "8e3ef896",
   "metadata": {
    "execution": {
     "iopub.execute_input": "2021-10-01T17:07:26.486003Z",
     "iopub.status.busy": "2021-10-01T17:07:26.485250Z",
     "iopub.status.idle": "2021-10-01T17:07:26.488791Z",
     "shell.execute_reply": "2021-10-01T17:07:26.489249Z",
     "shell.execute_reply.started": "2021-10-01T17:01:23.059063Z"
    },
    "papermill": {
     "duration": 0.051346,
     "end_time": "2021-10-01T17:07:26.489450",
     "exception": false,
     "start_time": "2021-10-01T17:07:26.438104",
     "status": "completed"
    },
    "tags": []
   },
   "outputs": [
    {
     "name": "stdout",
     "output_type": "stream",
     "text": [
      "Transaction date\n",
      "Average Amount/transaction/day\n",
      "Transaction_amount\n",
      "6_month_avg_chbk_amt\n"
     ]
    }
   ],
   "source": [
    "# quantitative variables\n",
    "for col in df.select_dtypes(\"float\"):\n",
    "    print(col)"
   ]
  },
  {
   "cell_type": "code",
   "execution_count": 15,
   "id": "a8877600",
   "metadata": {
    "execution": {
     "iopub.execute_input": "2021-10-01T17:07:26.574100Z",
     "iopub.status.busy": "2021-10-01T17:07:26.573407Z",
     "iopub.status.idle": "2021-10-01T17:07:26.604662Z",
     "shell.execute_reply": "2021-10-01T17:07:26.604015Z",
     "shell.execute_reply.started": "2021-10-01T17:01:25.796249Z"
    },
    "papermill": {
     "duration": 0.077714,
     "end_time": "2021-10-01T17:07:26.604831",
     "exception": false,
     "start_time": "2021-10-01T17:07:26.527117",
     "status": "completed"
    },
    "tags": []
   },
   "outputs": [
    {
     "data": {
      "text/html": [
       "<div>\n",
       "<style scoped>\n",
       "    .dataframe tbody tr th:only-of-type {\n",
       "        vertical-align: middle;\n",
       "    }\n",
       "\n",
       "    .dataframe tbody tr th {\n",
       "        vertical-align: top;\n",
       "    }\n",
       "\n",
       "    .dataframe thead th {\n",
       "        text-align: right;\n",
       "    }\n",
       "</style>\n",
       "<table border=\"1\" class=\"dataframe\">\n",
       "  <thead>\n",
       "    <tr style=\"text-align: right;\">\n",
       "      <th></th>\n",
       "      <th>Merchant_id</th>\n",
       "      <th>Transaction date</th>\n",
       "      <th>Average Amount/transaction/day</th>\n",
       "      <th>Transaction_amount</th>\n",
       "      <th>Total Number of declines/day</th>\n",
       "      <th>Daily_chargeback_avg_amt</th>\n",
       "      <th>6_month_avg_chbk_amt</th>\n",
       "      <th>6-month_chbk_freq</th>\n",
       "    </tr>\n",
       "  </thead>\n",
       "  <tbody>\n",
       "    <tr>\n",
       "      <th>count</th>\n",
       "      <td>3.075000e+03</td>\n",
       "      <td>0.0</td>\n",
       "      <td>3075.000000</td>\n",
       "      <td>3075.000000</td>\n",
       "      <td>3075.000000</td>\n",
       "      <td>3075.000000</td>\n",
       "      <td>3075.000000</td>\n",
       "      <td>3075.000000</td>\n",
       "    </tr>\n",
       "    <tr>\n",
       "      <th>mean</th>\n",
       "      <td>5.026634e+09</td>\n",
       "      <td>NaN</td>\n",
       "      <td>515.026556</td>\n",
       "      <td>9876.399210</td>\n",
       "      <td>0.957398</td>\n",
       "      <td>55.737561</td>\n",
       "      <td>40.022407</td>\n",
       "      <td>0.391870</td>\n",
       "    </tr>\n",
       "    <tr>\n",
       "      <th>std</th>\n",
       "      <td>9.870778e+08</td>\n",
       "      <td>NaN</td>\n",
       "      <td>291.906978</td>\n",
       "      <td>10135.331016</td>\n",
       "      <td>2.192391</td>\n",
       "      <td>206.634779</td>\n",
       "      <td>155.968840</td>\n",
       "      <td>1.548479</td>\n",
       "    </tr>\n",
       "    <tr>\n",
       "      <th>min</th>\n",
       "      <td>3.160041e+09</td>\n",
       "      <td>NaN</td>\n",
       "      <td>4.011527</td>\n",
       "      <td>0.000000</td>\n",
       "      <td>0.000000</td>\n",
       "      <td>0.000000</td>\n",
       "      <td>0.000000</td>\n",
       "      <td>0.000000</td>\n",
       "    </tr>\n",
       "    <tr>\n",
       "      <th>25%</th>\n",
       "      <td>4.170814e+09</td>\n",
       "      <td>NaN</td>\n",
       "      <td>269.788047</td>\n",
       "      <td>2408.781147</td>\n",
       "      <td>0.000000</td>\n",
       "      <td>0.000000</td>\n",
       "      <td>0.000000</td>\n",
       "      <td>0.000000</td>\n",
       "    </tr>\n",
       "    <tr>\n",
       "      <th>50%</th>\n",
       "      <td>5.025578e+09</td>\n",
       "      <td>NaN</td>\n",
       "      <td>502.549575</td>\n",
       "      <td>6698.891856</td>\n",
       "      <td>0.000000</td>\n",
       "      <td>0.000000</td>\n",
       "      <td>0.000000</td>\n",
       "      <td>0.000000</td>\n",
       "    </tr>\n",
       "    <tr>\n",
       "      <th>75%</th>\n",
       "      <td>5.889625e+09</td>\n",
       "      <td>NaN</td>\n",
       "      <td>765.272803</td>\n",
       "      <td>14422.568935</td>\n",
       "      <td>0.000000</td>\n",
       "      <td>0.000000</td>\n",
       "      <td>0.000000</td>\n",
       "      <td>0.000000</td>\n",
       "    </tr>\n",
       "    <tr>\n",
       "      <th>max</th>\n",
       "      <td>6.665906e+09</td>\n",
       "      <td>NaN</td>\n",
       "      <td>2000.000000</td>\n",
       "      <td>108000.000000</td>\n",
       "      <td>20.000000</td>\n",
       "      <td>998.000000</td>\n",
       "      <td>998.000000</td>\n",
       "      <td>9.000000</td>\n",
       "    </tr>\n",
       "  </tbody>\n",
       "</table>\n",
       "</div>"
      ],
      "text/plain": [
       "        Merchant_id  Transaction date  Average Amount/transaction/day  \\\n",
       "count  3.075000e+03               0.0                     3075.000000   \n",
       "mean   5.026634e+09               NaN                      515.026556   \n",
       "std    9.870778e+08               NaN                      291.906978   \n",
       "min    3.160041e+09               NaN                        4.011527   \n",
       "25%    4.170814e+09               NaN                      269.788047   \n",
       "50%    5.025578e+09               NaN                      502.549575   \n",
       "75%    5.889625e+09               NaN                      765.272803   \n",
       "max    6.665906e+09               NaN                     2000.000000   \n",
       "\n",
       "       Transaction_amount  Total Number of declines/day  \\\n",
       "count         3075.000000                   3075.000000   \n",
       "mean          9876.399210                      0.957398   \n",
       "std          10135.331016                      2.192391   \n",
       "min              0.000000                      0.000000   \n",
       "25%           2408.781147                      0.000000   \n",
       "50%           6698.891856                      0.000000   \n",
       "75%          14422.568935                      0.000000   \n",
       "max         108000.000000                     20.000000   \n",
       "\n",
       "       Daily_chargeback_avg_amt  6_month_avg_chbk_amt  6-month_chbk_freq  \n",
       "count               3075.000000           3075.000000        3075.000000  \n",
       "mean                  55.737561             40.022407           0.391870  \n",
       "std                  206.634779            155.968840           1.548479  \n",
       "min                    0.000000              0.000000           0.000000  \n",
       "25%                    0.000000              0.000000           0.000000  \n",
       "50%                    0.000000              0.000000           0.000000  \n",
       "75%                    0.000000              0.000000           0.000000  \n",
       "max                  998.000000            998.000000           9.000000  "
      ]
     },
     "execution_count": 15,
     "metadata": {},
     "output_type": "execute_result"
    }
   ],
   "source": [
    "# statisiical analisys\n",
    "df.describe()"
   ]
  },
  {
   "cell_type": "code",
   "execution_count": 16,
   "id": "12afc486",
   "metadata": {
    "execution": {
     "iopub.execute_input": "2021-10-01T17:07:26.689220Z",
     "iopub.status.busy": "2021-10-01T17:07:26.688504Z",
     "iopub.status.idle": "2021-10-01T17:07:26.692010Z",
     "shell.execute_reply": "2021-10-01T17:07:26.691431Z",
     "shell.execute_reply.started": "2021-10-01T17:01:28.710217Z"
    },
    "papermill": {
     "duration": 0.049033,
     "end_time": "2021-10-01T17:07:26.692155",
     "exception": false,
     "start_time": "2021-10-01T17:07:26.643122",
     "status": "completed"
    },
    "tags": []
   },
   "outputs": [
    {
     "name": "stdout",
     "output_type": "stream",
     "text": [
      "Merchant_id\n",
      "Total Number of declines/day\n",
      "Daily_chargeback_avg_amt\n",
      "6-month_chbk_freq\n"
     ]
    }
   ],
   "source": [
    "for col in df.select_dtypes(\"int64\"):\n",
    "    print(col)"
   ]
  },
  {
   "cell_type": "code",
   "execution_count": 17,
   "id": "d650f7b6",
   "metadata": {
    "execution": {
     "iopub.execute_input": "2021-10-01T17:07:26.775243Z",
     "iopub.status.busy": "2021-10-01T17:07:26.773367Z",
     "iopub.status.idle": "2021-10-01T17:07:26.778716Z",
     "shell.execute_reply": "2021-10-01T17:07:26.778151Z",
     "shell.execute_reply.started": "2021-10-01T17:01:31.290361Z"
    },
    "papermill": {
     "duration": 0.047538,
     "end_time": "2021-10-01T17:07:26.778901",
     "exception": false,
     "start_time": "2021-10-01T17:07:26.731363",
     "status": "completed"
    },
    "tags": []
   },
   "outputs": [],
   "source": [
    "# little encoding for qualitative variables\n",
    "code={\n",
    "    \"N\":0,\n",
    "    \"Y\":1\n",
    "}"
   ]
  },
  {
   "cell_type": "code",
   "execution_count": 18,
   "id": "70ebb71b",
   "metadata": {
    "execution": {
     "iopub.execute_input": "2021-10-01T17:07:26.865993Z",
     "iopub.status.busy": "2021-10-01T17:07:26.865198Z",
     "iopub.status.idle": "2021-10-01T17:07:26.871643Z",
     "shell.execute_reply": "2021-10-01T17:07:26.871111Z",
     "shell.execute_reply.started": "2021-10-01T17:01:42.289419Z"
    },
    "papermill": {
     "duration": 0.054329,
     "end_time": "2021-10-01T17:07:26.871800",
     "exception": false,
     "start_time": "2021-10-01T17:07:26.817471",
     "status": "completed"
    },
    "tags": []
   },
   "outputs": [],
   "source": [
    "\n",
    "for obj in df.select_dtypes(\"object\"):\n",
    "    df[obj]=df[obj].map(code)\n",
    "    "
   ]
  },
  {
   "cell_type": "code",
   "execution_count": 19,
   "id": "eb654b21",
   "metadata": {
    "execution": {
     "iopub.execute_input": "2021-10-01T17:07:26.955297Z",
     "iopub.status.busy": "2021-10-01T17:07:26.954552Z",
     "iopub.status.idle": "2021-10-01T17:07:26.977863Z",
     "shell.execute_reply": "2021-10-01T17:07:26.978349Z",
     "shell.execute_reply.started": "2021-10-01T17:01:44.926878Z"
    },
    "papermill": {
     "duration": 0.066934,
     "end_time": "2021-10-01T17:07:26.978533",
     "exception": false,
     "start_time": "2021-10-01T17:07:26.911599",
     "status": "completed"
    },
    "tags": []
   },
   "outputs": [
    {
     "data": {
      "text/html": [
       "<div>\n",
       "<style scoped>\n",
       "    .dataframe tbody tr th:only-of-type {\n",
       "        vertical-align: middle;\n",
       "    }\n",
       "\n",
       "    .dataframe tbody tr th {\n",
       "        vertical-align: top;\n",
       "    }\n",
       "\n",
       "    .dataframe thead th {\n",
       "        text-align: right;\n",
       "    }\n",
       "</style>\n",
       "<table border=\"1\" class=\"dataframe\">\n",
       "  <thead>\n",
       "    <tr style=\"text-align: right;\">\n",
       "      <th></th>\n",
       "      <th>Merchant_id</th>\n",
       "      <th>Transaction date</th>\n",
       "      <th>Average Amount/transaction/day</th>\n",
       "      <th>Transaction_amount</th>\n",
       "      <th>Is declined</th>\n",
       "      <th>Total Number of declines/day</th>\n",
       "      <th>isForeignTransaction</th>\n",
       "      <th>isHighRiskCountry</th>\n",
       "      <th>Daily_chargeback_avg_amt</th>\n",
       "      <th>6_month_avg_chbk_amt</th>\n",
       "      <th>6-month_chbk_freq</th>\n",
       "      <th>isFradulent</th>\n",
       "    </tr>\n",
       "  </thead>\n",
       "  <tbody>\n",
       "    <tr>\n",
       "      <th>Merchant_id</th>\n",
       "      <td>1.000000</td>\n",
       "      <td>NaN</td>\n",
       "      <td>0.018223</td>\n",
       "      <td>0.046065</td>\n",
       "      <td>0.159211</td>\n",
       "      <td>-0.016165</td>\n",
       "      <td>0.030289</td>\n",
       "      <td>0.028611</td>\n",
       "      <td>0.088802</td>\n",
       "      <td>0.091621</td>\n",
       "      <td>0.118599</td>\n",
       "      <td>0.043068</td>\n",
       "    </tr>\n",
       "    <tr>\n",
       "      <th>Transaction date</th>\n",
       "      <td>NaN</td>\n",
       "      <td>NaN</td>\n",
       "      <td>NaN</td>\n",
       "      <td>NaN</td>\n",
       "      <td>NaN</td>\n",
       "      <td>NaN</td>\n",
       "      <td>NaN</td>\n",
       "      <td>NaN</td>\n",
       "      <td>NaN</td>\n",
       "      <td>NaN</td>\n",
       "      <td>NaN</td>\n",
       "      <td>NaN</td>\n",
       "    </tr>\n",
       "    <tr>\n",
       "      <th>Average Amount/transaction/day</th>\n",
       "      <td>0.018223</td>\n",
       "      <td>NaN</td>\n",
       "      <td>1.000000</td>\n",
       "      <td>0.587111</td>\n",
       "      <td>0.081184</td>\n",
       "      <td>-0.009682</td>\n",
       "      <td>0.047316</td>\n",
       "      <td>0.014604</td>\n",
       "      <td>0.060429</td>\n",
       "      <td>0.060284</td>\n",
       "      <td>0.071849</td>\n",
       "      <td>0.023504</td>\n",
       "    </tr>\n",
       "    <tr>\n",
       "      <th>Transaction_amount</th>\n",
       "      <td>0.046065</td>\n",
       "      <td>NaN</td>\n",
       "      <td>0.587111</td>\n",
       "      <td>1.000000</td>\n",
       "      <td>0.197009</td>\n",
       "      <td>0.259309</td>\n",
       "      <td>0.276764</td>\n",
       "      <td>0.325397</td>\n",
       "      <td>0.252298</td>\n",
       "      <td>0.259663</td>\n",
       "      <td>0.297623</td>\n",
       "      <td>0.528913</td>\n",
       "    </tr>\n",
       "    <tr>\n",
       "      <th>Is declined</th>\n",
       "      <td>0.159211</td>\n",
       "      <td>NaN</td>\n",
       "      <td>0.081184</td>\n",
       "      <td>0.197009</td>\n",
       "      <td>1.000000</td>\n",
       "      <td>0.115961</td>\n",
       "      <td>0.079761</td>\n",
       "      <td>0.127586</td>\n",
       "      <td>0.394083</td>\n",
       "      <td>0.407917</td>\n",
       "      <td>0.499365</td>\n",
       "      <td>0.271282</td>\n",
       "    </tr>\n",
       "    <tr>\n",
       "      <th>Total Number of declines/day</th>\n",
       "      <td>-0.016165</td>\n",
       "      <td>NaN</td>\n",
       "      <td>-0.009682</td>\n",
       "      <td>0.259309</td>\n",
       "      <td>0.115961</td>\n",
       "      <td>1.000000</td>\n",
       "      <td>0.227904</td>\n",
       "      <td>0.292459</td>\n",
       "      <td>0.094834</td>\n",
       "      <td>0.081138</td>\n",
       "      <td>0.085028</td>\n",
       "      <td>0.531990</td>\n",
       "    </tr>\n",
       "    <tr>\n",
       "      <th>isForeignTransaction</th>\n",
       "      <td>0.030289</td>\n",
       "      <td>NaN</td>\n",
       "      <td>0.047316</td>\n",
       "      <td>0.276764</td>\n",
       "      <td>0.079761</td>\n",
       "      <td>0.227904</td>\n",
       "      <td>1.000000</td>\n",
       "      <td>0.489572</td>\n",
       "      <td>0.054798</td>\n",
       "      <td>0.060566</td>\n",
       "      <td>0.077083</td>\n",
       "      <td>0.478113</td>\n",
       "    </tr>\n",
       "    <tr>\n",
       "      <th>isHighRiskCountry</th>\n",
       "      <td>0.028611</td>\n",
       "      <td>NaN</td>\n",
       "      <td>0.014604</td>\n",
       "      <td>0.325397</td>\n",
       "      <td>0.127586</td>\n",
       "      <td>0.292459</td>\n",
       "      <td>0.489572</td>\n",
       "      <td>1.000000</td>\n",
       "      <td>0.074902</td>\n",
       "      <td>0.073167</td>\n",
       "      <td>0.098241</td>\n",
       "      <td>0.639792</td>\n",
       "    </tr>\n",
       "    <tr>\n",
       "      <th>Daily_chargeback_avg_amt</th>\n",
       "      <td>0.088802</td>\n",
       "      <td>NaN</td>\n",
       "      <td>0.060429</td>\n",
       "      <td>0.252298</td>\n",
       "      <td>0.394083</td>\n",
       "      <td>0.094834</td>\n",
       "      <td>0.054798</td>\n",
       "      <td>0.074902</td>\n",
       "      <td>1.000000</td>\n",
       "      <td>0.953663</td>\n",
       "      <td>0.884611</td>\n",
       "      <td>0.385964</td>\n",
       "    </tr>\n",
       "    <tr>\n",
       "      <th>6_month_avg_chbk_amt</th>\n",
       "      <td>0.091621</td>\n",
       "      <td>NaN</td>\n",
       "      <td>0.060284</td>\n",
       "      <td>0.259663</td>\n",
       "      <td>0.407917</td>\n",
       "      <td>0.081138</td>\n",
       "      <td>0.060566</td>\n",
       "      <td>0.073167</td>\n",
       "      <td>0.953663</td>\n",
       "      <td>1.000000</td>\n",
       "      <td>0.851339</td>\n",
       "      <td>0.375758</td>\n",
       "    </tr>\n",
       "    <tr>\n",
       "      <th>6-month_chbk_freq</th>\n",
       "      <td>0.118599</td>\n",
       "      <td>NaN</td>\n",
       "      <td>0.071849</td>\n",
       "      <td>0.297623</td>\n",
       "      <td>0.499365</td>\n",
       "      <td>0.085028</td>\n",
       "      <td>0.077083</td>\n",
       "      <td>0.098241</td>\n",
       "      <td>0.884611</td>\n",
       "      <td>0.851339</td>\n",
       "      <td>1.000000</td>\n",
       "      <td>0.443824</td>\n",
       "    </tr>\n",
       "    <tr>\n",
       "      <th>isFradulent</th>\n",
       "      <td>0.043068</td>\n",
       "      <td>NaN</td>\n",
       "      <td>0.023504</td>\n",
       "      <td>0.528913</td>\n",
       "      <td>0.271282</td>\n",
       "      <td>0.531990</td>\n",
       "      <td>0.478113</td>\n",
       "      <td>0.639792</td>\n",
       "      <td>0.385964</td>\n",
       "      <td>0.375758</td>\n",
       "      <td>0.443824</td>\n",
       "      <td>1.000000</td>\n",
       "    </tr>\n",
       "  </tbody>\n",
       "</table>\n",
       "</div>"
      ],
      "text/plain": [
       "                                Merchant_id  Transaction date  \\\n",
       "Merchant_id                        1.000000               NaN   \n",
       "Transaction date                        NaN               NaN   \n",
       "Average Amount/transaction/day     0.018223               NaN   \n",
       "Transaction_amount                 0.046065               NaN   \n",
       "Is declined                        0.159211               NaN   \n",
       "Total Number of declines/day      -0.016165               NaN   \n",
       "isForeignTransaction               0.030289               NaN   \n",
       "isHighRiskCountry                  0.028611               NaN   \n",
       "Daily_chargeback_avg_amt           0.088802               NaN   \n",
       "6_month_avg_chbk_amt               0.091621               NaN   \n",
       "6-month_chbk_freq                  0.118599               NaN   \n",
       "isFradulent                        0.043068               NaN   \n",
       "\n",
       "                                Average Amount/transaction/day  \\\n",
       "Merchant_id                                           0.018223   \n",
       "Transaction date                                           NaN   \n",
       "Average Amount/transaction/day                        1.000000   \n",
       "Transaction_amount                                    0.587111   \n",
       "Is declined                                           0.081184   \n",
       "Total Number of declines/day                         -0.009682   \n",
       "isForeignTransaction                                  0.047316   \n",
       "isHighRiskCountry                                     0.014604   \n",
       "Daily_chargeback_avg_amt                              0.060429   \n",
       "6_month_avg_chbk_amt                                  0.060284   \n",
       "6-month_chbk_freq                                     0.071849   \n",
       "isFradulent                                           0.023504   \n",
       "\n",
       "                                Transaction_amount  Is declined  \\\n",
       "Merchant_id                               0.046065     0.159211   \n",
       "Transaction date                               NaN          NaN   \n",
       "Average Amount/transaction/day            0.587111     0.081184   \n",
       "Transaction_amount                        1.000000     0.197009   \n",
       "Is declined                               0.197009     1.000000   \n",
       "Total Number of declines/day              0.259309     0.115961   \n",
       "isForeignTransaction                      0.276764     0.079761   \n",
       "isHighRiskCountry                         0.325397     0.127586   \n",
       "Daily_chargeback_avg_amt                  0.252298     0.394083   \n",
       "6_month_avg_chbk_amt                      0.259663     0.407917   \n",
       "6-month_chbk_freq                         0.297623     0.499365   \n",
       "isFradulent                               0.528913     0.271282   \n",
       "\n",
       "                                Total Number of declines/day  \\\n",
       "Merchant_id                                        -0.016165   \n",
       "Transaction date                                         NaN   \n",
       "Average Amount/transaction/day                     -0.009682   \n",
       "Transaction_amount                                  0.259309   \n",
       "Is declined                                         0.115961   \n",
       "Total Number of declines/day                        1.000000   \n",
       "isForeignTransaction                                0.227904   \n",
       "isHighRiskCountry                                   0.292459   \n",
       "Daily_chargeback_avg_amt                            0.094834   \n",
       "6_month_avg_chbk_amt                                0.081138   \n",
       "6-month_chbk_freq                                   0.085028   \n",
       "isFradulent                                         0.531990   \n",
       "\n",
       "                                isForeignTransaction  isHighRiskCountry  \\\n",
       "Merchant_id                                 0.030289           0.028611   \n",
       "Transaction date                                 NaN                NaN   \n",
       "Average Amount/transaction/day              0.047316           0.014604   \n",
       "Transaction_amount                          0.276764           0.325397   \n",
       "Is declined                                 0.079761           0.127586   \n",
       "Total Number of declines/day                0.227904           0.292459   \n",
       "isForeignTransaction                        1.000000           0.489572   \n",
       "isHighRiskCountry                           0.489572           1.000000   \n",
       "Daily_chargeback_avg_amt                    0.054798           0.074902   \n",
       "6_month_avg_chbk_amt                        0.060566           0.073167   \n",
       "6-month_chbk_freq                           0.077083           0.098241   \n",
       "isFradulent                                 0.478113           0.639792   \n",
       "\n",
       "                                Daily_chargeback_avg_amt  \\\n",
       "Merchant_id                                     0.088802   \n",
       "Transaction date                                     NaN   \n",
       "Average Amount/transaction/day                  0.060429   \n",
       "Transaction_amount                              0.252298   \n",
       "Is declined                                     0.394083   \n",
       "Total Number of declines/day                    0.094834   \n",
       "isForeignTransaction                            0.054798   \n",
       "isHighRiskCountry                               0.074902   \n",
       "Daily_chargeback_avg_amt                        1.000000   \n",
       "6_month_avg_chbk_amt                            0.953663   \n",
       "6-month_chbk_freq                               0.884611   \n",
       "isFradulent                                     0.385964   \n",
       "\n",
       "                                6_month_avg_chbk_amt  6-month_chbk_freq  \\\n",
       "Merchant_id                                 0.091621           0.118599   \n",
       "Transaction date                                 NaN                NaN   \n",
       "Average Amount/transaction/day              0.060284           0.071849   \n",
       "Transaction_amount                          0.259663           0.297623   \n",
       "Is declined                                 0.407917           0.499365   \n",
       "Total Number of declines/day                0.081138           0.085028   \n",
       "isForeignTransaction                        0.060566           0.077083   \n",
       "isHighRiskCountry                           0.073167           0.098241   \n",
       "Daily_chargeback_avg_amt                    0.953663           0.884611   \n",
       "6_month_avg_chbk_amt                        1.000000           0.851339   \n",
       "6-month_chbk_freq                           0.851339           1.000000   \n",
       "isFradulent                                 0.375758           0.443824   \n",
       "\n",
       "                                isFradulent  \n",
       "Merchant_id                        0.043068  \n",
       "Transaction date                        NaN  \n",
       "Average Amount/transaction/day     0.023504  \n",
       "Transaction_amount                 0.528913  \n",
       "Is declined                        0.271282  \n",
       "Total Number of declines/day       0.531990  \n",
       "isForeignTransaction               0.478113  \n",
       "isHighRiskCountry                  0.639792  \n",
       "Daily_chargeback_avg_amt           0.385964  \n",
       "6_month_avg_chbk_amt               0.375758  \n",
       "6-month_chbk_freq                  0.443824  \n",
       "isFradulent                        1.000000  "
      ]
     },
     "execution_count": 19,
     "metadata": {},
     "output_type": "execute_result"
    }
   ],
   "source": [
    "# calcul correlation\n",
    "df.corr()"
   ]
  },
  {
   "cell_type": "code",
   "execution_count": 20,
   "id": "9902969a",
   "metadata": {
    "execution": {
     "iopub.execute_input": "2021-10-01T17:07:27.063146Z",
     "iopub.status.busy": "2021-10-01T17:07:27.060090Z",
     "iopub.status.idle": "2021-10-01T17:07:27.549365Z",
     "shell.execute_reply": "2021-10-01T17:07:27.549895Z",
     "shell.execute_reply.started": "2021-10-01T17:01:48.491220Z"
    },
    "papermill": {
     "duration": 0.532222,
     "end_time": "2021-10-01T17:07:27.550081",
     "exception": false,
     "start_time": "2021-10-01T17:07:27.017859",
     "status": "completed"
    },
    "tags": []
   },
   "outputs": [
    {
     "data": {
      "text/plain": [
       "<AxesSubplot:>"
      ]
     },
     "execution_count": 20,
     "metadata": {},
     "output_type": "execute_result"
    },
    {
     "data": {
      "image/png": "[encoded data removed]",
      "text/plain": [
       "<Figure size 432x288 with 2 Axes>"
      ]
     },
     "metadata": {
      "needs_background": "light"
     },
     "output_type": "display_data"
    }
   ],
   "source": [
    "# view correlation\n",
    "plt.figure()\n",
    "sns.heatmap(df.corr())"
   ]
  },
  {
   "cell_type": "code",
   "execution_count": 21,
   "id": "f0ba66bf",
   "metadata": {
    "execution": {
     "iopub.execute_input": "2021-10-01T17:07:27.638698Z",
     "iopub.status.busy": "2021-10-01T17:07:27.637964Z",
     "iopub.status.idle": "2021-10-01T17:07:27.956619Z",
     "shell.execute_reply": "2021-10-01T17:07:27.955858Z",
     "shell.execute_reply.started": "2021-10-01T17:01:52.193390Z"
    },
    "papermill": {
     "duration": 0.364791,
     "end_time": "2021-10-01T17:07:27.956814",
     "exception": false,
     "start_time": "2021-10-01T17:07:27.592023",
     "status": "completed"
    },
    "tags": []
   },
   "outputs": [],
   "source": [
    "#  preprocessing\n",
    "# sklearn modules\n",
    "from sklearn.model_selection import train_test_split\n"
   ]
  },
  {
   "cell_type": "code",
   "execution_count": 22,
   "id": "d8c463df",
   "metadata": {
    "execution": {
     "iopub.execute_input": "2021-10-01T17:07:28.048209Z",
     "iopub.status.busy": "2021-10-01T17:07:28.045978Z",
     "iopub.status.idle": "2021-10-01T17:07:28.054146Z",
     "shell.execute_reply": "2021-10-01T17:07:28.053441Z",
     "shell.execute_reply.started": "2021-10-01T17:01:55.974391Z"
    },
    "papermill": {
     "duration": 0.054775,
     "end_time": "2021-10-01T17:07:28.054300",
     "exception": false,
     "start_time": "2021-10-01T17:07:27.999525",
     "status": "completed"
    },
    "tags": []
   },
   "outputs": [],
   "source": [
    "# create trainset and testset\n",
    "trainset,testset=train_test_split(df,test_size=0.2,random_state=0)"
   ]
  },
  {
   "cell_type": "code",
   "execution_count": 23,
   "id": "2a27638a",
   "metadata": {
    "execution": {
     "iopub.execute_input": "2021-10-01T17:07:28.144548Z",
     "iopub.status.busy": "2021-10-01T17:07:28.143516Z",
     "iopub.status.idle": "2021-10-01T17:07:28.146730Z",
     "shell.execute_reply": "2021-10-01T17:07:28.146233Z",
     "shell.execute_reply.started": "2021-10-01T17:01:59.470007Z"
    },
    "papermill": {
     "duration": 0.050651,
     "end_time": "2021-10-01T17:07:28.146898",
     "exception": false,
     "start_time": "2021-10-01T17:07:28.096247",
     "status": "completed"
    },
    "tags": []
   },
   "outputs": [],
   "source": [
    "# create X_train,y_train,X_test,y_test\n",
    "def prepro(df):\n",
    "    X=df.drop([\"Transaction date\",\"isFradulent\"],axis=1)\n",
    "    y=df[\"isFradulent\"]\n",
    "    return X,y"
   ]
  },
  {
   "cell_type": "code",
   "execution_count": 24,
   "id": "0b5e2501",
   "metadata": {
    "execution": {
     "iopub.execute_input": "2021-10-01T17:07:28.239422Z",
     "iopub.status.busy": "2021-10-01T17:07:28.238715Z",
     "iopub.status.idle": "2021-10-01T17:07:28.241524Z",
     "shell.execute_reply": "2021-10-01T17:07:28.240947Z",
     "shell.execute_reply.started": "2021-10-01T17:02:03.782393Z"
    },
    "papermill": {
     "duration": 0.05182,
     "end_time": "2021-10-01T17:07:28.241717",
     "exception": false,
     "start_time": "2021-10-01T17:07:28.189897",
     "status": "completed"
    },
    "tags": []
   },
   "outputs": [],
   "source": [
    "X_train,y_train=prepro(trainset)"
   ]
  },
  {
   "cell_type": "code",
   "execution_count": 25,
   "id": "9f9b8869",
   "metadata": {
    "execution": {
     "iopub.execute_input": "2021-10-01T17:07:28.330961Z",
     "iopub.status.busy": "2021-10-01T17:07:28.330281Z",
     "iopub.status.idle": "2021-10-01T17:07:28.333262Z",
     "shell.execute_reply": "2021-10-01T17:07:28.333870Z",
     "shell.execute_reply.started": "2021-10-01T17:04:38.505735Z"
    },
    "papermill": {
     "duration": 0.050763,
     "end_time": "2021-10-01T17:07:28.334079",
     "exception": false,
     "start_time": "2021-10-01T17:07:28.283316",
     "status": "completed"
    },
    "tags": []
   },
   "outputs": [],
   "source": [
    "X_test,y_test=prepro(testset)"
   ]
  },
  {
   "cell_type": "code",
   "execution_count": 26,
   "id": "25084048",
   "metadata": {
    "execution": {
     "iopub.execute_input": "2021-10-01T17:07:28.421752Z",
     "iopub.status.busy": "2021-10-01T17:07:28.421045Z",
     "iopub.status.idle": "2021-10-01T17:07:28.607607Z",
     "shell.execute_reply": "2021-10-01T17:07:28.606207Z",
     "shell.execute_reply.started": "2021-10-01T17:04:42.394885Z"
    },
    "papermill": {
     "duration": 0.232006,
     "end_time": "2021-10-01T17:07:28.607794",
     "exception": false,
     "start_time": "2021-10-01T17:07:28.375788",
     "status": "completed"
    },
    "tags": []
   },
   "outputs": [],
   "source": [
    "# first modelling\n",
    "# sklearn modules\n",
    "from sklearn.pipeline import make_pipeline\n",
    "from sklearn.svm import SVC\n",
    "from sklearn.preprocessing import StandardScaler,Normalizer,PolynomialFeatures\n",
    "from sklearn.metrics import confusion_matrix,f1_score,classification_report\n",
    "from sklearn.model_selection import learning_curve,GridSearchCV\n",
    "from sklearn.neighbors import KNeighborsClassifier\n",
    "from sklearn.tree import DecisionTreeClassifier"
   ]
  },
  {
   "cell_type": "code",
   "execution_count": 27,
   "id": "5254ba7c",
   "metadata": {
    "execution": {
     "iopub.execute_input": "2021-10-01T17:07:28.697250Z",
     "iopub.status.busy": "2021-10-01T17:07:28.696582Z",
     "iopub.status.idle": "2021-10-01T17:07:28.699160Z",
     "shell.execute_reply": "2021-10-01T17:07:28.698501Z",
     "shell.execute_reply.started": "2021-10-01T17:04:45.161745Z"
    },
    "papermill": {
     "duration": 0.05019,
     "end_time": "2021-10-01T17:07:28.699309",
     "exception": false,
     "start_time": "2021-10-01T17:07:28.649119",
     "status": "completed"
    },
    "tags": []
   },
   "outputs": [],
   "source": [
    "# first model\n",
    "svc=make_pipeline(StandardScaler(),SVC())"
   ]
  },
  {
   "cell_type": "code",
   "execution_count": 28,
   "id": "374d44ca",
   "metadata": {
    "execution": {
     "iopub.execute_input": "2021-10-01T17:07:28.791302Z",
     "iopub.status.busy": "2021-10-01T17:07:28.790615Z",
     "iopub.status.idle": "2021-10-01T17:07:28.792590Z",
     "shell.execute_reply": "2021-10-01T17:07:28.793112Z",
     "shell.execute_reply.started": "2021-10-01T17:04:48.252587Z"
    },
    "papermill": {
     "duration": 0.051634,
     "end_time": "2021-10-01T17:07:28.793291",
     "exception": false,
     "start_time": "2021-10-01T17:07:28.741657",
     "status": "completed"
    },
    "tags": []
   },
   "outputs": [],
   "source": [
    "# evaluation function\n",
    "def evalu(model):\n",
    "    model.fit(X_train,y_train)\n",
    "    ypred=model.predict(X_test)\n",
    "    print(\"confusion matrix\",confusion_matrix(y_test,ypred))\n",
    "    print(classification_report(y_test,ypred))\n",
    "    N,train_score,val_score=learning_curve(model,X_train,y_train,scoring=\"f1\",train_sizes=np.linspace(0.1,1,10),cv=5)\n",
    "    plt.figure()\n",
    "    plt.plot(N,train_score.mean(axis=1),label=\"train_score\")\n",
    "    plt.plot(N,val_score.mean(axis=1),label=\"validation_score\")\n",
    "    plt.legend()\n",
    "\n"
   ]
  },
  {
   "cell_type": "code",
   "execution_count": 29,
   "id": "394f7066",
   "metadata": {
    "execution": {
     "iopub.execute_input": "2021-10-01T17:07:28.880203Z",
     "iopub.status.busy": "2021-10-01T17:07:28.879329Z",
     "iopub.status.idle": "2021-10-01T17:07:30.630207Z",
     "shell.execute_reply": "2021-10-01T17:07:30.629156Z",
     "shell.execute_reply.started": "2021-10-01T17:04:51.620110Z"
    },
    "papermill": {
     "duration": 1.795859,
     "end_time": "2021-10-01T17:07:30.630379",
     "exception": false,
     "start_time": "2021-10-01T17:07:28.834520",
     "status": "completed"
    },
    "tags": []
   },
   "outputs": [
    {
     "name": "stdout",
     "output_type": "stream",
     "text": [
      "confusion matrix [[527   5]\n",
      " [  5  78]]\n",
      "              precision    recall  f1-score   support\n",
      "\n",
      "           0       0.99      0.99      0.99       532\n",
      "           1       0.94      0.94      0.94        83\n",
      "\n",
      "    accuracy                           0.98       615\n",
      "   macro avg       0.97      0.97      0.97       615\n",
      "weighted avg       0.98      0.98      0.98       615\n",
      "\n"
     ]
    },
    {
     "data": {
      "image/png": "[encoded data removed]",
      "text/plain": [
       "<Figure size 432x288 with 1 Axes>"
      ]
     },
     "metadata": {
      "needs_background": "light"
     },
     "output_type": "display_data"
    }
   ],
   "source": [
    "evalu(svc)"
   ]
  },
  {
   "cell_type": "code",
   "execution_count": 30,
   "id": "f8d03cde",
   "metadata": {
    "execution": {
     "iopub.execute_input": "2021-10-01T17:07:30.719247Z",
     "iopub.status.busy": "2021-10-01T17:07:30.718541Z",
     "iopub.status.idle": "2021-10-01T17:07:30.722596Z",
     "shell.execute_reply": "2021-10-01T17:07:30.723123Z",
     "shell.execute_reply.started": "2021-10-01T17:04:59.231933Z"
    },
    "papermill": {
     "duration": 0.050192,
     "end_time": "2021-10-01T17:07:30.723304",
     "exception": false,
     "start_time": "2021-10-01T17:07:30.673112",
     "status": "completed"
    },
    "tags": []
   },
   "outputs": [],
   "source": [
    "# evaluate other models\n",
    "knn=make_pipeline(StandardScaler(),KNeighborsClassifier())\n",
    "dt=make_pipeline(StandardScaler(),DecisionTreeClassifier())"
   ]
  },
  {
   "cell_type": "code",
   "execution_count": 31,
   "id": "f8b153f3",
   "metadata": {
    "execution": {
     "iopub.execute_input": "2021-10-01T17:07:30.812861Z",
     "iopub.status.busy": "2021-10-01T17:07:30.812217Z",
     "iopub.status.idle": "2021-10-01T17:07:35.765593Z",
     "shell.execute_reply": "2021-10-01T17:07:35.764635Z",
     "shell.execute_reply.started": "2021-10-01T17:05:02.470274Z"
    },
    "papermill": {
     "duration": 4.999324,
     "end_time": "2021-10-01T17:07:35.765776",
     "exception": false,
     "start_time": "2021-10-01T17:07:30.766452",
     "status": "completed"
    },
    "tags": []
   },
   "outputs": [
    {
     "name": "stdout",
     "output_type": "stream",
     "text": [
      "confusion matrix [[526   6]\n",
      " [  7  76]]\n",
      "              precision    recall  f1-score   support\n",
      "\n",
      "           0       0.99      0.99      0.99       532\n",
      "           1       0.93      0.92      0.92        83\n",
      "\n",
      "    accuracy                           0.98       615\n",
      "   macro avg       0.96      0.95      0.95       615\n",
      "weighted avg       0.98      0.98      0.98       615\n",
      "\n"
     ]
    },
    {
     "data": {
      "image/png": "[encoded data removed]",
      "text/plain": [
       "<Figure size 432x288 with 1 Axes>"
      ]
     },
     "metadata": {
      "needs_background": "light"
     },
     "output_type": "display_data"
    }
   ],
   "source": [
    "# KNN\n",
    "evalu(knn)"
   ]
  },
  {
   "cell_type": "code",
   "execution_count": 32,
   "id": "1e9d933c",
   "metadata": {
    "execution": {
     "iopub.execute_input": "2021-10-01T17:07:35.864739Z",
     "iopub.status.busy": "2021-10-01T17:07:35.863939Z",
     "iopub.status.idle": "2021-10-01T17:07:36.859707Z",
     "shell.execute_reply": "2021-10-01T17:07:36.860216Z",
     "shell.execute_reply.started": "2021-10-01T17:05:07.488029Z"
    },
    "papermill": {
     "duration": 1.04951,
     "end_time": "2021-10-01T17:07:36.860518",
     "exception": false,
     "start_time": "2021-10-01T17:07:35.811008",
     "status": "completed"
    },
    "tags": []
   },
   "outputs": [
    {
     "name": "stdout",
     "output_type": "stream",
     "text": [
      "confusion matrix [[523   9]\n",
      " [  6  77]]\n",
      "              precision    recall  f1-score   support\n",
      "\n",
      "           0       0.99      0.98      0.99       532\n",
      "           1       0.90      0.93      0.91        83\n",
      "\n",
      "    accuracy                           0.98       615\n",
      "   macro avg       0.94      0.96      0.95       615\n",
      "weighted avg       0.98      0.98      0.98       615\n",
      "\n"
     ]
    },
    {
     "data": {
      "image/png": "[encoded data removed]",
      "text/plain": [
       "<Figure size 432x288 with 1 Axes>"
      ]
     },
     "metadata": {
      "needs_background": "light"
     },
     "output_type": "display_data"
    }
   ],
   "source": [
    "# Decision tree\n",
    "evalu(dt)"
   ]
  },
  {
   "cell_type": "code",
   "execution_count": 33,
   "id": "d0fc8a30",
   "metadata": {
    "execution": {
     "iopub.execute_input": "2021-10-01T17:07:36.966739Z",
     "iopub.status.busy": "2021-10-01T17:07:36.966086Z",
     "iopub.status.idle": "2021-10-01T17:07:36.969479Z",
     "shell.execute_reply": "2021-10-01T17:07:36.968935Z"
    },
    "papermill": {
     "duration": 0.057982,
     "end_time": "2021-10-01T17:07:36.969636",
     "exception": false,
     "start_time": "2021-10-01T17:07:36.911654",
     "status": "completed"
    },
    "tags": []
   },
   "outputs": [],
   "source": [
    "# im decide to choose SVC for optimisation"
   ]
  },
  {
   "cell_type": "code",
   "execution_count": 34,
   "id": "eabc065f",
   "metadata": {
    "execution": {
     "iopub.execute_input": "2021-10-01T17:07:37.066808Z",
     "iopub.status.busy": "2021-10-01T17:07:37.065815Z",
     "iopub.status.idle": "2021-10-01T17:07:37.068997Z",
     "shell.execute_reply": "2021-10-01T17:07:37.068417Z"
    },
    "papermill": {
     "duration": 0.053671,
     "end_time": "2021-10-01T17:07:37.069371",
     "exception": false,
     "start_time": "2021-10-01T17:07:37.015700",
     "status": "completed"
    },
    "tags": []
   },
   "outputs": [],
   "source": [
    "# Optimisation"
   ]
  },
  {
   "cell_type": "code",
   "execution_count": 35,
   "id": "59b5b31b",
   "metadata": {
    "execution": {
     "iopub.execute_input": "2021-10-01T17:07:37.168898Z",
     "iopub.status.busy": "2021-10-01T17:07:37.168190Z",
     "iopub.status.idle": "2021-10-01T17:07:37.174214Z",
     "shell.execute_reply": "2021-10-01T17:07:37.174849Z",
     "shell.execute_reply.started": "2021-10-01T17:05:16.758577Z"
    },
    "papermill": {
     "duration": 0.058032,
     "end_time": "2021-10-01T17:07:37.175040",
     "exception": false,
     "start_time": "2021-10-01T17:07:37.117008",
     "status": "completed"
    },
    "tags": []
   },
   "outputs": [
    {
     "data": {
      "text/plain": [
       "Pipeline(steps=[('standardscaler', StandardScaler()), ('svc', SVC())])"
      ]
     },
     "execution_count": 35,
     "metadata": {},
     "output_type": "execute_result"
    }
   ],
   "source": [
    "svc"
   ]
  },
  {
   "cell_type": "code",
   "execution_count": 36,
   "id": "76be0ee0",
   "metadata": {
    "execution": {
     "iopub.execute_input": "2021-10-01T17:07:37.271248Z",
     "iopub.status.busy": "2021-10-01T17:07:37.270250Z",
     "iopub.status.idle": "2021-10-01T17:07:37.273470Z",
     "shell.execute_reply": "2021-10-01T17:07:37.272881Z",
     "shell.execute_reply.started": "2021-10-01T17:05:20.115279Z"
    },
    "papermill": {
     "duration": 0.053583,
     "end_time": "2021-10-01T17:07:37.273632",
     "exception": false,
     "start_time": "2021-10-01T17:07:37.220049",
     "status": "completed"
    },
    "tags": []
   },
   "outputs": [],
   "source": [
    "param={\n",
    "    \"svc__C\":[1.0,2.0,5.0,40.0,632.0],\n",
    "    \"svc__gamma\":[1e-4,1e-5]\n",
    "}"
   ]
  },
  {
   "cell_type": "code",
   "execution_count": 37,
   "id": "3a367292",
   "metadata": {
    "execution": {
     "iopub.execute_input": "2021-10-01T17:07:37.376881Z",
     "iopub.status.busy": "2021-10-01T17:07:37.375785Z",
     "iopub.status.idle": "2021-10-01T17:07:40.396034Z",
     "shell.execute_reply": "2021-10-01T17:07:40.395007Z",
     "shell.execute_reply.started": "2021-10-01T17:05:24.151981Z"
    },
    "papermill": {
     "duration": 3.076219,
     "end_time": "2021-10-01T17:07:40.396282",
     "exception": false,
     "start_time": "2021-10-01T17:07:37.320063",
     "status": "completed"
    },
    "tags": []
   },
   "outputs": [
    {
     "name": "stdout",
     "output_type": "stream",
     "text": [
      "{'svc__C': 632.0, 'svc__gamma': 0.0001}\n"
     ]
    }
   ],
   "source": [
    "grid=GridSearchCV(svc,param,scoring=\"recall\",cv=5)\n",
    "grid.fit(X_train,y_train)\n",
    "print(grid.best_params_)"
   ]
  },
  {
   "cell_type": "code",
   "execution_count": 38,
   "id": "8d15c552",
   "metadata": {
    "execution": {
     "iopub.execute_input": "2021-10-01T17:07:40.500828Z",
     "iopub.status.busy": "2021-10-01T17:07:40.499615Z",
     "iopub.status.idle": "2021-10-01T17:07:42.055960Z",
     "shell.execute_reply": "2021-10-01T17:07:42.055358Z",
     "shell.execute_reply.started": "2021-10-01T17:05:30.837390Z"
    },
    "papermill": {
     "duration": 1.6098,
     "end_time": "2021-10-01T17:07:42.056122",
     "exception": false,
     "start_time": "2021-10-01T17:07:40.446322",
     "status": "completed"
    },
    "tags": []
   },
   "outputs": [
    {
     "name": "stdout",
     "output_type": "stream",
     "text": [
      "confusion matrix [[529   3]\n",
      " [  4  79]]\n",
      "              precision    recall  f1-score   support\n",
      "\n",
      "           0       0.99      0.99      0.99       532\n",
      "           1       0.96      0.95      0.96        83\n",
      "\n",
      "    accuracy                           0.99       615\n",
      "   macro avg       0.98      0.97      0.98       615\n",
      "weighted avg       0.99      0.99      0.99       615\n",
      "\n"
     ]
    },
    {
     "data": {
      "image/png": "[encoded data removed]",
      "text/plain": [
       "<Figure size 432x288 with 1 Axes>"
      ]
     },
     "metadata": {
      "needs_background": "light"
     },
     "output_type": "display_data"
    }
   ],
   "source": [
    "evalu(grid.best_estimator_)"
   ]
  },
  {
   "cell_type": "code",
   "execution_count": 39,
   "id": "f237de2b",
   "metadata": {
    "execution": {
     "iopub.execute_input": "2021-10-01T17:07:42.156807Z",
     "iopub.status.busy": "2021-10-01T17:07:42.155826Z",
     "iopub.status.idle": "2021-10-01T17:07:42.167846Z",
     "shell.execute_reply": "2021-10-01T17:07:42.167348Z",
     "shell.execute_reply.started": "2021-10-01T17:05:35.976942Z"
    },
    "papermill": {
     "duration": 0.063034,
     "end_time": "2021-10-01T17:07:42.168002",
     "exception": false,
     "start_time": "2021-10-01T17:07:42.104968",
     "status": "completed"
    },
    "tags": []
   },
   "outputs": [
    {
     "data": {
      "text/plain": [
       "0.9886178861788618"
      ]
     },
     "execution_count": 39,
     "metadata": {},
     "output_type": "execute_result"
    }
   ],
   "source": [
    "# model final score\n",
    "grid.best_estimator_.score(X_test,y_test)"
   ]
  },
  {
   "cell_type": "code",
   "execution_count": 1,
   "id": "8c2d47d5",
   "metadata": {
    "papermill": {
     "duration": 0.046474,
     "end_time": "2021-10-01T17:07:42.261357",
     "exception": false,
     "start_time": "2021-10-01T17:07:42.214883",
     "status": "completed"
    },
    "tags": []
   },
   "outputs": [],
   "source": [
    "#"
   ]
  },
  {
   "cell_type": "code",
   "execution_count": null,
   "id": "498cc42d",
   "metadata": {
    "papermill": {
     "duration": 0.047085,
     "end_time": "2021-10-01T17:07:42.355508",
     "exception": false,
     "start_time": "2021-10-01T17:07:42.308423",
     "status": "completed"
    },
    "tags": []
   },
   "outputs": [],
   "source": []
  }
 ],
 "metadata": {
  "kernelspec": {
   "display_name": "virtual",
   "language": "python",
   "name": "virtual"
  },
  "language_info": {
   "codemirror_mode": {
    "name": "ipython",
    "version": 3
   },
   "file_extension": ".py",
   "mimetype": "text/x-python",
   "name": "python",
   "nbconvert_exporter": "python",
   "pygments_lexer": "ipython3",
   "version": "3.10.4"
  },
  "papermill": {
   "default_parameters": {},
   "duration": 28.946001,
   "end_time": "2021-10-01T17:07:43.893925",
   "environment_variables": {},
   "exception": null,
   "input_path": "__notebook__.ipynb",
   "output_path": "__notebook__.ipynb",
   "parameters": {},
   "start_time": "2021-10-01T17:07:14.947924",
   "version": "2.3.3"
  }
 },
 "nbformat": 4,
 "nbformat_minor": 5
}
