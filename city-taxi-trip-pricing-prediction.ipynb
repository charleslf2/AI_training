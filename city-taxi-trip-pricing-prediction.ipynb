{
 "cells": [
  {
   "cell_type": "code",
   "execution_count": 3,
   "id": "477ac75f",
   "metadata": {
    "_cell_guid": "b1076dfc-b9ad-4769-8c92-a6c4dae69d19",
    "_uuid": "8f2839f25d086af736a60e9eeb907d3b93b6e0e5",
    "execution": {
     "iopub.execute_input": "2021-10-01T17:20:20.539679Z",
     "iopub.status.busy": "2021-10-01T17:20:20.538526Z",
     "iopub.status.idle": "2021-10-01T17:20:21.472245Z",
     "shell.execute_reply": "2021-10-01T17:20:21.471433Z",
     "shell.execute_reply.started": "2021-10-01T17:11:13.750819Z"
    },
    "papermill": {
     "duration": 0.963225,
     "end_time": "2021-10-01T17:20:21.472428",
     "exception": false,
     "start_time": "2021-10-01T17:20:20.509203",
     "status": "completed"
    },
    "tags": []
   },
   "outputs": [
    {
     "name": "stderr",
     "output_type": "stream",
     "text": [
      "Matplotlib is building the font cache; this may take a moment.\n"
     ]
    },
    {
     "ename": "ModuleNotFoundError",
     "evalue": "No module named 'seaborn'",
     "output_type": "error",
     "traceback": [
      "\u001b[1;31m---------------------------------------------------------------------------\u001b[0m",
      "\u001b[1;31mModuleNotFoundError\u001b[0m                       Traceback (most recent call last)",
      "\u001b[1;32mc:\\Users\\charles lf\\Desktop\\programming\\ai\\city-taxi-trip-pricing-prediction.ipynb Cell 1'\u001b[0m in \u001b[0;36m<cell line: 5>\u001b[1;34m()\u001b[0m\n\u001b[0;32m      <a href='vscode-notebook-cell:/c%3A/Users/charles%20lf/Desktop/programming/ai/city-taxi-trip-pricing-prediction.ipynb#ch0000000?line=2'>3</a>\u001b[0m \u001b[39mimport\u001b[39;00m \u001b[39mpandas\u001b[39;00m \u001b[39mas\u001b[39;00m \u001b[39mpd\u001b[39;00m\n\u001b[0;32m      <a href='vscode-notebook-cell:/c%3A/Users/charles%20lf/Desktop/programming/ai/city-taxi-trip-pricing-prediction.ipynb#ch0000000?line=3'>4</a>\u001b[0m \u001b[39mimport\u001b[39;00m \u001b[39mmatplotlib\u001b[39;00m\u001b[39m.\u001b[39;00m\u001b[39mpyplot\u001b[39;00m \u001b[39mas\u001b[39;00m \u001b[39mplt\u001b[39;00m\n\u001b[1;32m----> <a href='vscode-notebook-cell:/c%3A/Users/charles%20lf/Desktop/programming/ai/city-taxi-trip-pricing-prediction.ipynb#ch0000000?line=4'>5</a>\u001b[0m \u001b[39mimport\u001b[39;00m \u001b[39mseaborn\u001b[39;00m \u001b[39mas\u001b[39;00m \u001b[39msns\u001b[39;00m\n",
      "\u001b[1;31mModuleNotFoundError\u001b[0m: No module named 'seaborn'"
     ]
    }
   ],
   "source": [
    "# import packages\n",
    "import numpy as np\n",
    "import pandas as pd\n",
    "import matplotlib.pyplot as plt\n",
    "import seaborn as sns "
   ]
  },
  {
   "cell_type": "code",
   "execution_count": 2,
   "id": "143007fb",
   "metadata": {
    "execution": {
     "iopub.execute_input": "2021-10-01T17:20:21.529028Z",
     "iopub.status.busy": "2021-10-01T17:20:21.528376Z",
     "iopub.status.idle": "2021-10-01T17:20:21.530075Z",
     "shell.execute_reply": "2021-10-01T17:20:21.530647Z"
    },
    "papermill": {
     "duration": 0.031622,
     "end_time": "2021-10-01T17:20:21.530824",
     "exception": false,
     "start_time": "2021-10-01T17:20:21.499202",
     "status": "completed"
    },
    "tags": []
   },
   "outputs": [],
   "source": [
    "# My goal in this project is to predict cost of the trip"
   ]
  },
  {
   "cell_type": "code",
   "execution_count": 3,
   "id": "0d581c05",
   "metadata": {
    "execution": {
     "iopub.execute_input": "2021-10-01T17:20:21.584449Z",
     "iopub.status.busy": "2021-10-01T17:20:21.583857Z",
     "iopub.status.idle": "2021-10-01T17:20:22.162636Z",
     "shell.execute_reply": "2021-10-01T17:20:22.161991Z",
     "shell.execute_reply.started": "2021-10-01T17:11:14.903664Z"
    },
    "papermill": {
     "duration": 0.606585,
     "end_time": "2021-10-01T17:20:22.162789",
     "exception": false,
     "start_time": "2021-10-01T17:20:21.556204",
     "status": "completed"
    },
    "tags": []
   },
   "outputs": [],
   "source": [
    "data=pd.read_csv(r\"../input/city-taxi-trip-pricing-and-distances/Cab_Data.csv\")"
   ]
  },
  {
   "cell_type": "code",
   "execution_count": 4,
   "id": "55a4d44f",
   "metadata": {
    "execution": {
     "iopub.execute_input": "2021-10-01T17:20:22.222878Z",
     "iopub.status.busy": "2021-10-01T17:20:22.221430Z",
     "iopub.status.idle": "2021-10-01T17:20:22.237512Z",
     "shell.execute_reply": "2021-10-01T17:20:22.237992Z",
     "shell.execute_reply.started": "2021-10-01T17:11:19.502209Z"
    },
    "papermill": {
     "duration": 0.049559,
     "end_time": "2021-10-01T17:20:22.238161",
     "exception": false,
     "start_time": "2021-10-01T17:20:22.188602",
     "status": "completed"
    },
    "tags": []
   },
   "outputs": [
    {
     "data": {
      "text/html": [
       "<div>\n",
       "<style scoped>\n",
       "    .dataframe tbody tr th:only-of-type {\n",
       "        vertical-align: middle;\n",
       "    }\n",
       "\n",
       "    .dataframe tbody tr th {\n",
       "        vertical-align: top;\n",
       "    }\n",
       "\n",
       "    .dataframe thead th {\n",
       "        text-align: right;\n",
       "    }\n",
       "</style>\n",
       "<table border=\"1\" class=\"dataframe\">\n",
       "  <thead>\n",
       "    <tr style=\"text-align: right;\">\n",
       "      <th></th>\n",
       "      <th>Transaction ID</th>\n",
       "      <th>Date of Travel</th>\n",
       "      <th>Company</th>\n",
       "      <th>City</th>\n",
       "      <th>KM Travelled</th>\n",
       "      <th>Price Charged</th>\n",
       "      <th>Cost of Trip</th>\n",
       "    </tr>\n",
       "  </thead>\n",
       "  <tbody>\n",
       "    <tr>\n",
       "      <th>0</th>\n",
       "      <td>10000011</td>\n",
       "      <td>42377</td>\n",
       "      <td>Pink Cab</td>\n",
       "      <td>ATLANTA GA</td>\n",
       "      <td>30.45</td>\n",
       "      <td>370.95</td>\n",
       "      <td>313.635</td>\n",
       "    </tr>\n",
       "    <tr>\n",
       "      <th>1</th>\n",
       "      <td>10000012</td>\n",
       "      <td>42375</td>\n",
       "      <td>Pink Cab</td>\n",
       "      <td>ATLANTA GA</td>\n",
       "      <td>28.62</td>\n",
       "      <td>358.52</td>\n",
       "      <td>334.854</td>\n",
       "    </tr>\n",
       "    <tr>\n",
       "      <th>2</th>\n",
       "      <td>10000013</td>\n",
       "      <td>42371</td>\n",
       "      <td>Pink Cab</td>\n",
       "      <td>ATLANTA GA</td>\n",
       "      <td>9.04</td>\n",
       "      <td>125.20</td>\n",
       "      <td>97.632</td>\n",
       "    </tr>\n",
       "    <tr>\n",
       "      <th>3</th>\n",
       "      <td>10000014</td>\n",
       "      <td>42376</td>\n",
       "      <td>Pink Cab</td>\n",
       "      <td>ATLANTA GA</td>\n",
       "      <td>33.17</td>\n",
       "      <td>377.40</td>\n",
       "      <td>351.602</td>\n",
       "    </tr>\n",
       "    <tr>\n",
       "      <th>4</th>\n",
       "      <td>10000015</td>\n",
       "      <td>42372</td>\n",
       "      <td>Pink Cab</td>\n",
       "      <td>ATLANTA GA</td>\n",
       "      <td>8.73</td>\n",
       "      <td>114.62</td>\n",
       "      <td>97.776</td>\n",
       "    </tr>\n",
       "  </tbody>\n",
       "</table>\n",
       "</div>"
      ],
      "text/plain": [
       "   Transaction ID  Date of Travel   Company        City  KM Travelled  \\\n",
       "0        10000011           42377  Pink Cab  ATLANTA GA         30.45   \n",
       "1        10000012           42375  Pink Cab  ATLANTA GA         28.62   \n",
       "2        10000013           42371  Pink Cab  ATLANTA GA          9.04   \n",
       "3        10000014           42376  Pink Cab  ATLANTA GA         33.17   \n",
       "4        10000015           42372  Pink Cab  ATLANTA GA          8.73   \n",
       "\n",
       "   Price Charged  Cost of Trip  \n",
       "0         370.95       313.635  \n",
       "1         358.52       334.854  \n",
       "2         125.20        97.632  \n",
       "3         377.40       351.602  \n",
       "4         114.62        97.776  "
      ]
     },
     "execution_count": 4,
     "metadata": {},
     "output_type": "execute_result"
    }
   ],
   "source": [
    "data.head()"
   ]
  },
  {
   "cell_type": "code",
   "execution_count": 5,
   "id": "de82e297",
   "metadata": {
    "execution": {
     "iopub.execute_input": "2021-10-01T17:20:22.295872Z",
     "iopub.status.busy": "2021-10-01T17:20:22.295070Z",
     "iopub.status.idle": "2021-10-01T17:20:22.297855Z",
     "shell.execute_reply": "2021-10-01T17:20:22.297379Z"
    },
    "papermill": {
     "duration": 0.032107,
     "end_time": "2021-10-01T17:20:22.297990",
     "exception": false,
     "start_time": "2021-10-01T17:20:22.265883",
     "status": "completed"
    },
    "tags": []
   },
   "outputs": [],
   "source": [
    "                                  # Exploratory Data Analysis #"
   ]
  },
  {
   "cell_type": "code",
   "execution_count": 6,
   "id": "e4d5a757",
   "metadata": {
    "execution": {
     "iopub.execute_input": "2021-10-01T17:20:22.353842Z",
     "iopub.status.busy": "2021-10-01T17:20:22.352977Z",
     "iopub.status.idle": "2021-10-01T17:20:22.355642Z",
     "shell.execute_reply": "2021-10-01T17:20:22.356128Z"
    },
    "papermill": {
     "duration": 0.03253,
     "end_time": "2021-10-01T17:20:22.356283",
     "exception": false,
     "start_time": "2021-10-01T17:20:22.323753",
     "status": "completed"
    },
    "tags": []
   },
   "outputs": [],
   "source": [
    "                                        # Analyze form #"
   ]
  },
  {
   "cell_type": "code",
   "execution_count": 7,
   "id": "b532cc6d",
   "metadata": {
    "execution": {
     "iopub.execute_input": "2021-10-01T17:20:22.413955Z",
     "iopub.status.busy": "2021-10-01T17:20:22.413283Z",
     "iopub.status.idle": "2021-10-01T17:20:22.439734Z",
     "shell.execute_reply": "2021-10-01T17:20:22.439216Z",
     "shell.execute_reply.started": "2021-10-01T17:11:24.138697Z"
    },
    "papermill": {
     "duration": 0.057158,
     "end_time": "2021-10-01T17:20:22.439890",
     "exception": false,
     "start_time": "2021-10-01T17:20:22.382732",
     "status": "completed"
    },
    "tags": []
   },
   "outputs": [
    {
     "data": {
      "text/html": [
       "<div>\n",
       "<style scoped>\n",
       "    .dataframe tbody tr th:only-of-type {\n",
       "        vertical-align: middle;\n",
       "    }\n",
       "\n",
       "    .dataframe tbody tr th {\n",
       "        vertical-align: top;\n",
       "    }\n",
       "\n",
       "    .dataframe thead th {\n",
       "        text-align: right;\n",
       "    }\n",
       "</style>\n",
       "<table border=\"1\" class=\"dataframe\">\n",
       "  <thead>\n",
       "    <tr style=\"text-align: right;\">\n",
       "      <th></th>\n",
       "      <th>Transaction ID</th>\n",
       "      <th>Date of Travel</th>\n",
       "      <th>Company</th>\n",
       "      <th>City</th>\n",
       "      <th>KM Travelled</th>\n",
       "      <th>Price Charged</th>\n",
       "      <th>Cost of Trip</th>\n",
       "    </tr>\n",
       "  </thead>\n",
       "  <tbody>\n",
       "    <tr>\n",
       "      <th>0</th>\n",
       "      <td>10000011</td>\n",
       "      <td>42377</td>\n",
       "      <td>Pink Cab</td>\n",
       "      <td>ATLANTA GA</td>\n",
       "      <td>30.45</td>\n",
       "      <td>370.95</td>\n",
       "      <td>313.635</td>\n",
       "    </tr>\n",
       "    <tr>\n",
       "      <th>1</th>\n",
       "      <td>10000012</td>\n",
       "      <td>42375</td>\n",
       "      <td>Pink Cab</td>\n",
       "      <td>ATLANTA GA</td>\n",
       "      <td>28.62</td>\n",
       "      <td>358.52</td>\n",
       "      <td>334.854</td>\n",
       "    </tr>\n",
       "    <tr>\n",
       "      <th>2</th>\n",
       "      <td>10000013</td>\n",
       "      <td>42371</td>\n",
       "      <td>Pink Cab</td>\n",
       "      <td>ATLANTA GA</td>\n",
       "      <td>9.04</td>\n",
       "      <td>125.20</td>\n",
       "      <td>97.632</td>\n",
       "    </tr>\n",
       "    <tr>\n",
       "      <th>3</th>\n",
       "      <td>10000014</td>\n",
       "      <td>42376</td>\n",
       "      <td>Pink Cab</td>\n",
       "      <td>ATLANTA GA</td>\n",
       "      <td>33.17</td>\n",
       "      <td>377.40</td>\n",
       "      <td>351.602</td>\n",
       "    </tr>\n",
       "    <tr>\n",
       "      <th>4</th>\n",
       "      <td>10000015</td>\n",
       "      <td>42372</td>\n",
       "      <td>Pink Cab</td>\n",
       "      <td>ATLANTA GA</td>\n",
       "      <td>8.73</td>\n",
       "      <td>114.62</td>\n",
       "      <td>97.776</td>\n",
       "    </tr>\n",
       "  </tbody>\n",
       "</table>\n",
       "</div>"
      ],
      "text/plain": [
       "   Transaction ID  Date of Travel   Company        City  KM Travelled  \\\n",
       "0        10000011           42377  Pink Cab  ATLANTA GA         30.45   \n",
       "1        10000012           42375  Pink Cab  ATLANTA GA         28.62   \n",
       "2        10000013           42371  Pink Cab  ATLANTA GA          9.04   \n",
       "3        10000014           42376  Pink Cab  ATLANTA GA         33.17   \n",
       "4        10000015           42372  Pink Cab  ATLANTA GA          8.73   \n",
       "\n",
       "   Price Charged  Cost of Trip  \n",
       "0         370.95       313.635  \n",
       "1         358.52       334.854  \n",
       "2         125.20        97.632  \n",
       "3         377.40       351.602  \n",
       "4         114.62        97.776  "
      ]
     },
     "execution_count": 7,
     "metadata": {},
     "output_type": "execute_result"
    }
   ],
   "source": [
    "# copy data\n",
    "df=data.copy()\n",
    "df.head()"
   ]
  },
  {
   "cell_type": "code",
   "execution_count": 8,
   "id": "8879dcd3",
   "metadata": {
    "execution": {
     "iopub.execute_input": "2021-10-01T17:20:22.496392Z",
     "iopub.status.busy": "2021-10-01T17:20:22.495788Z",
     "iopub.status.idle": "2021-10-01T17:20:22.498401Z",
     "shell.execute_reply": "2021-10-01T17:20:22.497871Z"
    },
    "papermill": {
     "duration": 0.032368,
     "end_time": "2021-10-01T17:20:22.498528",
     "exception": false,
     "start_time": "2021-10-01T17:20:22.466160",
     "status": "completed"
    },
    "tags": []
   },
   "outputs": [],
   "source": [
    "# Target variable\n",
    "           ## my target variable is \"Cost of Trip\""
   ]
  },
  {
   "cell_type": "code",
   "execution_count": 9,
   "id": "53cb4b81",
   "metadata": {
    "execution": {
     "iopub.execute_input": "2021-10-01T17:20:22.555245Z",
     "iopub.status.busy": "2021-10-01T17:20:22.554568Z",
     "iopub.status.idle": "2021-10-01T17:20:22.558439Z",
     "shell.execute_reply": "2021-10-01T17:20:22.557987Z",
     "shell.execute_reply.started": "2021-10-01T17:11:27.585857Z"
    },
    "papermill": {
     "duration": 0.03406,
     "end_time": "2021-10-01T17:20:22.558571",
     "exception": false,
     "start_time": "2021-10-01T17:20:22.524511",
     "status": "completed"
    },
    "tags": []
   },
   "outputs": [
    {
     "data": {
      "text/plain": [
       "(359392, 7)"
      ]
     },
     "execution_count": 9,
     "metadata": {},
     "output_type": "execute_result"
    }
   ],
   "source": [
    "# shape\n",
    "df.shape"
   ]
  },
  {
   "cell_type": "code",
   "execution_count": 10,
   "id": "f14d3a26",
   "metadata": {
    "execution": {
     "iopub.execute_input": "2021-10-01T17:20:22.615384Z",
     "iopub.status.busy": "2021-10-01T17:20:22.614781Z",
     "iopub.status.idle": "2021-10-01T17:20:22.617539Z",
     "shell.execute_reply": "2021-10-01T17:20:22.617093Z"
    },
    "papermill": {
     "duration": 0.032557,
     "end_time": "2021-10-01T17:20:22.617724",
     "exception": false,
     "start_time": "2021-10-01T17:20:22.585167",
     "status": "completed"
    },
    "tags": []
   },
   "outputs": [],
   "source": [
    "             ## we have 359392 rows and 7 columns"
   ]
  },
  {
   "cell_type": "code",
   "execution_count": 11,
   "id": "59bcf92f",
   "metadata": {
    "execution": {
     "iopub.execute_input": "2021-10-01T17:20:22.697666Z",
     "iopub.status.busy": "2021-10-01T17:20:22.696520Z",
     "iopub.status.idle": "2021-10-01T17:20:22.701521Z",
     "shell.execute_reply": "2021-10-01T17:20:22.700806Z",
     "shell.execute_reply.started": "2021-10-01T17:11:30.499818Z"
    },
    "papermill": {
     "duration": 0.052299,
     "end_time": "2021-10-01T17:20:22.701730",
     "exception": false,
     "start_time": "2021-10-01T17:20:22.649431",
     "status": "completed"
    },
    "tags": []
   },
   "outputs": [
    {
     "data": {
      "text/plain": [
       "float64    3\n",
       "int64      2\n",
       "object     2\n",
       "dtype: int64"
      ]
     },
     "execution_count": 11,
     "metadata": {},
     "output_type": "execute_result"
    }
   ],
   "source": [
    "# types of variables\n",
    "df.dtypes.value_counts()"
   ]
  },
  {
   "cell_type": "code",
   "execution_count": 12,
   "id": "7cfdf317",
   "metadata": {
    "execution": {
     "iopub.execute_input": "2021-10-01T17:20:22.767148Z",
     "iopub.status.busy": "2021-10-01T17:20:22.766353Z",
     "iopub.status.idle": "2021-10-01T17:20:22.768953Z",
     "shell.execute_reply": "2021-10-01T17:20:22.768426Z"
    },
    "papermill": {
     "duration": 0.033749,
     "end_time": "2021-10-01T17:20:22.769081",
     "exception": false,
     "start_time": "2021-10-01T17:20:22.735332",
     "status": "completed"
    },
    "tags": []
   },
   "outputs": [],
   "source": [
    "         ## we have 2 qualitatives,3 continuous quantitatives and 2 discrete quantitative variables"
   ]
  },
  {
   "cell_type": "code",
   "execution_count": 13,
   "id": "db8b8574",
   "metadata": {
    "execution": {
     "iopub.execute_input": "2021-10-01T17:20:22.829694Z",
     "iopub.status.busy": "2021-10-01T17:20:22.829077Z",
     "iopub.status.idle": "2021-10-01T17:20:22.928196Z",
     "shell.execute_reply": "2021-10-01T17:20:22.927538Z",
     "shell.execute_reply.started": "2021-10-01T17:11:33.217783Z"
    },
    "papermill": {
     "duration": 0.131933,
     "end_time": "2021-10-01T17:20:22.928355",
     "exception": false,
     "start_time": "2021-10-01T17:20:22.796422",
     "status": "completed"
    },
    "tags": []
   },
   "outputs": [
    {
     "name": "stdout",
     "output_type": "stream",
     "text": [
      "<class 'pandas.core.frame.DataFrame'>\n",
      "RangeIndex: 359392 entries, 0 to 359391\n",
      "Data columns (total 7 columns):\n",
      " #   Column          Non-Null Count   Dtype  \n",
      "---  ------          --------------   -----  \n",
      " 0   Transaction ID  359392 non-null  int64  \n",
      " 1   Date of Travel  359392 non-null  int64  \n",
      " 2   Company         359392 non-null  object \n",
      " 3   City            359392 non-null  object \n",
      " 4   KM Travelled    359392 non-null  float64\n",
      " 5   Price Charged   359392 non-null  float64\n",
      " 6   Cost of Trip    359392 non-null  float64\n",
      "dtypes: float64(3), int64(2), object(2)\n",
      "memory usage: 19.2+ MB\n"
     ]
    }
   ],
   "source": [
    "# missing values\n",
    "df.info()"
   ]
  },
  {
   "cell_type": "code",
   "execution_count": 14,
   "id": "f6e7f2ae",
   "metadata": {
    "execution": {
     "iopub.execute_input": "2021-10-01T17:20:22.989523Z",
     "iopub.status.busy": "2021-10-01T17:20:22.988616Z",
     "iopub.status.idle": "2021-10-01T17:20:22.991129Z",
     "shell.execute_reply": "2021-10-01T17:20:22.990584Z"
    },
    "papermill": {
     "duration": 0.034679,
     "end_time": "2021-10-01T17:20:22.991267",
     "exception": false,
     "start_time": "2021-10-01T17:20:22.956588",
     "status": "completed"
    },
    "tags": []
   },
   "outputs": [],
   "source": [
    "        ## is no missing values "
   ]
  },
  {
   "cell_type": "code",
   "execution_count": 15,
   "id": "1f2903be",
   "metadata": {
    "execution": {
     "iopub.execute_input": "2021-10-01T17:20:23.051910Z",
     "iopub.status.busy": "2021-10-01T17:20:23.051207Z",
     "iopub.status.idle": "2021-10-01T17:20:23.053974Z",
     "shell.execute_reply": "2021-10-01T17:20:23.053346Z"
    },
    "papermill": {
     "duration": 0.034486,
     "end_time": "2021-10-01T17:20:23.054122",
     "exception": false,
     "start_time": "2021-10-01T17:20:23.019636",
     "status": "completed"
    },
    "tags": []
   },
   "outputs": [],
   "source": [
    "                                        # Background Analysis #"
   ]
  },
  {
   "cell_type": "code",
   "execution_count": 16,
   "id": "67b76e39",
   "metadata": {
    "execution": {
     "iopub.execute_input": "2021-10-01T17:20:23.113722Z",
     "iopub.status.busy": "2021-10-01T17:20:23.113080Z",
     "iopub.status.idle": "2021-10-01T17:20:23.215804Z",
     "shell.execute_reply": "2021-10-01T17:20:23.216344Z",
     "shell.execute_reply.started": "2021-10-01T17:11:36.515432Z"
    },
    "papermill": {
     "duration": 0.134075,
     "end_time": "2021-10-01T17:20:23.216525",
     "exception": false,
     "start_time": "2021-10-01T17:20:23.082450",
     "status": "completed"
    },
    "tags": []
   },
   "outputs": [
    {
     "data": {
      "text/html": [
       "<div>\n",
       "<style scoped>\n",
       "    .dataframe tbody tr th:only-of-type {\n",
       "        vertical-align: middle;\n",
       "    }\n",
       "\n",
       "    .dataframe tbody tr th {\n",
       "        vertical-align: top;\n",
       "    }\n",
       "\n",
       "    .dataframe thead th {\n",
       "        text-align: right;\n",
       "    }\n",
       "</style>\n",
       "<table border=\"1\" class=\"dataframe\">\n",
       "  <thead>\n",
       "    <tr style=\"text-align: right;\">\n",
       "      <th></th>\n",
       "      <th>Transaction ID</th>\n",
       "      <th>Date of Travel</th>\n",
       "      <th>KM Travelled</th>\n",
       "      <th>Price Charged</th>\n",
       "      <th>Cost of Trip</th>\n",
       "    </tr>\n",
       "  </thead>\n",
       "  <tbody>\n",
       "    <tr>\n",
       "      <th>count</th>\n",
       "      <td>3.593920e+05</td>\n",
       "      <td>359392.000000</td>\n",
       "      <td>359392.000000</td>\n",
       "      <td>359392.000000</td>\n",
       "      <td>359392.000000</td>\n",
       "    </tr>\n",
       "    <tr>\n",
       "      <th>mean</th>\n",
       "      <td>1.022076e+07</td>\n",
       "      <td>42964.067998</td>\n",
       "      <td>22.567254</td>\n",
       "      <td>423.443311</td>\n",
       "      <td>286.190113</td>\n",
       "    </tr>\n",
       "    <tr>\n",
       "      <th>std</th>\n",
       "      <td>1.268058e+05</td>\n",
       "      <td>307.467197</td>\n",
       "      <td>12.233526</td>\n",
       "      <td>274.378911</td>\n",
       "      <td>157.993661</td>\n",
       "    </tr>\n",
       "    <tr>\n",
       "      <th>min</th>\n",
       "      <td>1.000001e+07</td>\n",
       "      <td>42371.000000</td>\n",
       "      <td>1.900000</td>\n",
       "      <td>15.600000</td>\n",
       "      <td>19.000000</td>\n",
       "    </tr>\n",
       "    <tr>\n",
       "      <th>25%</th>\n",
       "      <td>1.011081e+07</td>\n",
       "      <td>42697.000000</td>\n",
       "      <td>12.000000</td>\n",
       "      <td>206.437500</td>\n",
       "      <td>151.200000</td>\n",
       "    </tr>\n",
       "    <tr>\n",
       "      <th>50%</th>\n",
       "      <td>1.022104e+07</td>\n",
       "      <td>42988.000000</td>\n",
       "      <td>22.440000</td>\n",
       "      <td>386.360000</td>\n",
       "      <td>282.480000</td>\n",
       "    </tr>\n",
       "    <tr>\n",
       "      <th>75%</th>\n",
       "      <td>1.033094e+07</td>\n",
       "      <td>43232.000000</td>\n",
       "      <td>32.960000</td>\n",
       "      <td>583.660000</td>\n",
       "      <td>413.683200</td>\n",
       "    </tr>\n",
       "    <tr>\n",
       "      <th>max</th>\n",
       "      <td>1.044011e+07</td>\n",
       "      <td>43465.000000</td>\n",
       "      <td>48.000000</td>\n",
       "      <td>2048.030000</td>\n",
       "      <td>691.200000</td>\n",
       "    </tr>\n",
       "  </tbody>\n",
       "</table>\n",
       "</div>"
      ],
      "text/plain": [
       "       Transaction ID  Date of Travel   KM Travelled  Price Charged  \\\n",
       "count    3.593920e+05   359392.000000  359392.000000  359392.000000   \n",
       "mean     1.022076e+07    42964.067998      22.567254     423.443311   \n",
       "std      1.268058e+05      307.467197      12.233526     274.378911   \n",
       "min      1.000001e+07    42371.000000       1.900000      15.600000   \n",
       "25%      1.011081e+07    42697.000000      12.000000     206.437500   \n",
       "50%      1.022104e+07    42988.000000      22.440000     386.360000   \n",
       "75%      1.033094e+07    43232.000000      32.960000     583.660000   \n",
       "max      1.044011e+07    43465.000000      48.000000    2048.030000   \n",
       "\n",
       "        Cost of Trip  \n",
       "count  359392.000000  \n",
       "mean      286.190113  \n",
       "std       157.993661  \n",
       "min        19.000000  \n",
       "25%       151.200000  \n",
       "50%       282.480000  \n",
       "75%       413.683200  \n",
       "max       691.200000  "
      ]
     },
     "execution_count": 16,
     "metadata": {},
     "output_type": "execute_result"
    }
   ],
   "source": [
    "# statistical analysis\n",
    "df.describe()"
   ]
  },
  {
   "cell_type": "code",
   "execution_count": 17,
   "id": "5fb8ce57",
   "metadata": {
    "execution": {
     "iopub.execute_input": "2021-10-01T17:20:23.276350Z",
     "iopub.status.busy": "2021-10-01T17:20:23.275705Z",
     "iopub.status.idle": "2021-10-01T17:20:23.329137Z",
     "shell.execute_reply": "2021-10-01T17:20:23.328613Z",
     "shell.execute_reply.started": "2021-10-01T17:11:39.646376Z"
    },
    "papermill": {
     "duration": 0.084578,
     "end_time": "2021-10-01T17:20:23.329269",
     "exception": false,
     "start_time": "2021-10-01T17:20:23.244691",
     "status": "completed"
    },
    "tags": []
   },
   "outputs": [
    {
     "data": {
      "text/html": [
       "<div>\n",
       "<style scoped>\n",
       "    .dataframe tbody tr th:only-of-type {\n",
       "        vertical-align: middle;\n",
       "    }\n",
       "\n",
       "    .dataframe tbody tr th {\n",
       "        vertical-align: top;\n",
       "    }\n",
       "\n",
       "    .dataframe thead th {\n",
       "        text-align: right;\n",
       "    }\n",
       "</style>\n",
       "<table border=\"1\" class=\"dataframe\">\n",
       "  <thead>\n",
       "    <tr style=\"text-align: right;\">\n",
       "      <th></th>\n",
       "      <th>Transaction ID</th>\n",
       "      <th>Date of Travel</th>\n",
       "      <th>KM Travelled</th>\n",
       "      <th>Price Charged</th>\n",
       "      <th>Cost of Trip</th>\n",
       "    </tr>\n",
       "  </thead>\n",
       "  <tbody>\n",
       "    <tr>\n",
       "      <th>Transaction ID</th>\n",
       "      <td>1.000000</td>\n",
       "      <td>0.993030</td>\n",
       "      <td>-0.001429</td>\n",
       "      <td>-0.052902</td>\n",
       "      <td>-0.003462</td>\n",
       "    </tr>\n",
       "    <tr>\n",
       "      <th>Date of Travel</th>\n",
       "      <td>0.993030</td>\n",
       "      <td>1.000000</td>\n",
       "      <td>-0.001621</td>\n",
       "      <td>-0.055559</td>\n",
       "      <td>-0.004484</td>\n",
       "    </tr>\n",
       "    <tr>\n",
       "      <th>KM Travelled</th>\n",
       "      <td>-0.001429</td>\n",
       "      <td>-0.001621</td>\n",
       "      <td>1.000000</td>\n",
       "      <td>0.835753</td>\n",
       "      <td>0.981848</td>\n",
       "    </tr>\n",
       "    <tr>\n",
       "      <th>Price Charged</th>\n",
       "      <td>-0.052902</td>\n",
       "      <td>-0.055559</td>\n",
       "      <td>0.835753</td>\n",
       "      <td>1.000000</td>\n",
       "      <td>0.859812</td>\n",
       "    </tr>\n",
       "    <tr>\n",
       "      <th>Cost of Trip</th>\n",
       "      <td>-0.003462</td>\n",
       "      <td>-0.004484</td>\n",
       "      <td>0.981848</td>\n",
       "      <td>0.859812</td>\n",
       "      <td>1.000000</td>\n",
       "    </tr>\n",
       "  </tbody>\n",
       "</table>\n",
       "</div>"
      ],
      "text/plain": [
       "                Transaction ID  Date of Travel  KM Travelled  Price Charged  \\\n",
       "Transaction ID        1.000000        0.993030     -0.001429      -0.052902   \n",
       "Date of Travel        0.993030        1.000000     -0.001621      -0.055559   \n",
       "KM Travelled         -0.001429       -0.001621      1.000000       0.835753   \n",
       "Price Charged        -0.052902       -0.055559      0.835753       1.000000   \n",
       "Cost of Trip         -0.003462       -0.004484      0.981848       0.859812   \n",
       "\n",
       "                Cost of Trip  \n",
       "Transaction ID     -0.003462  \n",
       "Date of Travel     -0.004484  \n",
       "KM Travelled        0.981848  \n",
       "Price Charged       0.859812  \n",
       "Cost of Trip        1.000000  "
      ]
     },
     "execution_count": 17,
     "metadata": {},
     "output_type": "execute_result"
    }
   ],
   "source": [
    "# correlation \n",
    "df.corr()"
   ]
  },
  {
   "cell_type": "code",
   "execution_count": 18,
   "id": "30570cb0",
   "metadata": {
    "execution": {
     "iopub.execute_input": "2021-10-01T17:20:23.389360Z",
     "iopub.status.busy": "2021-10-01T17:20:23.388684Z",
     "iopub.status.idle": "2021-10-01T17:20:23.720003Z",
     "shell.execute_reply": "2021-10-01T17:20:23.719338Z",
     "shell.execute_reply.started": "2021-10-01T17:11:42.334258Z"
    },
    "papermill": {
     "duration": 0.362635,
     "end_time": "2021-10-01T17:20:23.720140",
     "exception": false,
     "start_time": "2021-10-01T17:20:23.357505",
     "status": "completed"
    },
    "tags": []
   },
   "outputs": [
    {
     "data": {
      "text/plain": [
       "<AxesSubplot:>"
      ]
     },
     "execution_count": 18,
     "metadata": {},
     "output_type": "execute_result"
    },
    {
     "data": {
      "image/png": "[encoded data removed]",
      "text/plain": [
       "<Figure size 432x288 with 2 Axes>"
      ]
     },
     "metadata": {
      "needs_background": "light"
     },
     "output_type": "display_data"
    }
   ],
   "source": [
    "# visualize correlation\n",
    "sns.heatmap(df.corr())"
   ]
  },
  {
   "cell_type": "code",
   "execution_count": 19,
   "id": "dc3af590",
   "metadata": {
    "execution": {
     "iopub.execute_input": "2021-10-01T17:20:23.786408Z",
     "iopub.status.busy": "2021-10-01T17:20:23.785782Z",
     "iopub.status.idle": "2021-10-01T17:20:24.233702Z",
     "shell.execute_reply": "2021-10-01T17:20:24.233100Z",
     "shell.execute_reply.started": "2021-10-01T17:11:45.869322Z"
    },
    "papermill": {
     "duration": 0.484141,
     "end_time": "2021-10-01T17:20:24.233862",
     "exception": false,
     "start_time": "2021-10-01T17:20:23.749721",
     "status": "completed"
    },
    "tags": []
   },
   "outputs": [
    {
     "data": {
      "image/png": "[encoded data removed]",
      "text/plain": [
       "<Figure size 432x288 with 1 Axes>"
      ]
     },
     "metadata": {},
     "output_type": "display_data"
    },
    {
     "data": {
      "image/png": "[encoded data removed]",
      "text/plain": [
       "<Figure size 432x288 with 1 Axes>"
      ]
     },
     "metadata": {},
     "output_type": "display_data"
    }
   ],
   "source": [
    "# qualitatives variables visualisation\n",
    "for col in df.select_dtypes('object'):\n",
    "    plt.figure()\n",
    "    df[col].value_counts().plot.pie()\n",
    "    "
   ]
  },
  {
   "cell_type": "code",
   "execution_count": 20,
   "id": "b02203dd",
   "metadata": {
    "execution": {
     "iopub.execute_input": "2021-10-01T17:20:24.308175Z",
     "iopub.status.busy": "2021-10-01T17:20:24.307133Z",
     "iopub.status.idle": "2021-10-01T17:20:26.847228Z",
     "shell.execute_reply": "2021-10-01T17:20:26.846702Z",
     "shell.execute_reply.started": "2021-10-01T17:11:49.414314Z"
    },
    "papermill": {
     "duration": 2.58087,
     "end_time": "2021-10-01T17:20:26.847362",
     "exception": false,
     "start_time": "2021-10-01T17:20:24.266492",
     "status": "completed"
    },
    "tags": []
   },
   "outputs": [
    {
     "data": {
      "text/plain": [
       "<Figure size 432x288 with 0 Axes>"
      ]
     },
     "metadata": {},
     "output_type": "display_data"
    },
    {
     "data": {
      "image/png": "[encoded data removed]",
      "text/plain": [
       "<Figure size 360x360 with 1 Axes>"
      ]
     },
     "metadata": {
      "needs_background": "light"
     },
     "output_type": "display_data"
    },
    {
     "data": {
      "text/plain": [
       "<Figure size 432x288 with 0 Axes>"
      ]
     },
     "metadata": {},
     "output_type": "display_data"
    },
    {
     "data": {
      "image/png": "[encoded data removed]",
      "text/plain": [
       "<Figure size 360x360 with 1 Axes>"
      ]
     },
     "metadata": {
      "needs_background": "light"
     },
     "output_type": "display_data"
    },
    {
     "data": {
      "text/plain": [
       "<Figure size 432x288 with 0 Axes>"
      ]
     },
     "metadata": {},
     "output_type": "display_data"
    },
    {
     "data": {
      "image/png": "[encoded data removed]",
      "text/plain": [
       "<Figure size 360x360 with 1 Axes>"
      ]
     },
     "metadata": {
      "needs_background": "light"
     },
     "output_type": "display_data"
    }
   ],
   "source": [
    "# quantitative variables visualisation\n",
    "for col in df.select_dtypes(\"float\"):\n",
    "    plt.figure()\n",
    "    sns.displot(df[col])"
   ]
  },
  {
   "cell_type": "code",
   "execution_count": 21,
   "id": "ea188e43",
   "metadata": {
    "execution": {
     "iopub.execute_input": "2021-10-01T17:20:26.920504Z",
     "iopub.status.busy": "2021-10-01T17:20:26.919916Z",
     "iopub.status.idle": "2021-10-01T17:20:26.923022Z",
     "shell.execute_reply": "2021-10-01T17:20:26.923519Z"
    },
    "papermill": {
     "duration": 0.041362,
     "end_time": "2021-10-01T17:20:26.923681",
     "exception": false,
     "start_time": "2021-10-01T17:20:26.882319",
     "status": "completed"
    },
    "tags": []
   },
   "outputs": [],
   "source": [
    "                                    # Preprocessing and first modelling #"
   ]
  },
  {
   "cell_type": "code",
   "execution_count": 22,
   "id": "714e7ceb",
   "metadata": {
    "execution": {
     "iopub.execute_input": "2021-10-01T17:20:26.996266Z",
     "iopub.status.busy": "2021-10-01T17:20:26.995572Z",
     "iopub.status.idle": "2021-10-01T17:20:27.249795Z",
     "shell.execute_reply": "2021-10-01T17:20:27.249204Z",
     "shell.execute_reply.started": "2021-10-01T17:11:55.962099Z"
    },
    "papermill": {
     "duration": 0.291625,
     "end_time": "2021-10-01T17:20:27.249938",
     "exception": false,
     "start_time": "2021-10-01T17:20:26.958313",
     "status": "completed"
    },
    "tags": []
   },
   "outputs": [],
   "source": [
    "# Sklearn module\n",
    "from sklearn.model_selection import train_test_split\n",
    "from sklearn.preprocessing import Binarizer,LabelEncoder,Normalizer,OneHotEncoder,StandardScaler\n",
    "from sklearn.pipeline import make_pipeline\n",
    "from sklearn.compose import make_column_transformer,make_column_selector\n",
    "from sklearn.linear_model import LinearRegression\n",
    "from sklearn.metrics import max_error,mean_absolute_error,mean_squared_error"
   ]
  },
  {
   "cell_type": "code",
   "execution_count": 23,
   "id": "29a74fde",
   "metadata": {
    "execution": {
     "iopub.execute_input": "2021-10-01T17:20:27.326804Z",
     "iopub.status.busy": "2021-10-01T17:20:27.325619Z",
     "iopub.status.idle": "2021-10-01T17:20:27.371160Z",
     "shell.execute_reply": "2021-10-01T17:20:27.371670Z",
     "shell.execute_reply.started": "2021-10-01T17:11:59.200847Z"
    },
    "papermill": {
     "duration": 0.087204,
     "end_time": "2021-10-01T17:20:27.371884",
     "exception": false,
     "start_time": "2021-10-01T17:20:27.284680",
     "status": "completed"
    },
    "tags": []
   },
   "outputs": [],
   "source": [
    "# create trainset and testset\n",
    "trainset,testset=train_test_split(df,test_size=0.2,random_state=0)"
   ]
  },
  {
   "cell_type": "code",
   "execution_count": 24,
   "id": "7451abd7",
   "metadata": {
    "execution": {
     "iopub.execute_input": "2021-10-01T17:20:27.445798Z",
     "iopub.status.busy": "2021-10-01T17:20:27.445160Z",
     "iopub.status.idle": "2021-10-01T17:20:27.448713Z",
     "shell.execute_reply": "2021-10-01T17:20:27.449275Z",
     "shell.execute_reply.started": "2021-10-01T17:12:02.145196Z"
    },
    "papermill": {
     "duration": 0.041472,
     "end_time": "2021-10-01T17:20:27.449425",
     "exception": false,
     "start_time": "2021-10-01T17:20:27.407953",
     "status": "completed"
    },
    "tags": []
   },
   "outputs": [],
   "source": [
    "# create X_train,y_train,X_test,y_test\n",
    "def prepro(df):\n",
    "    X=df.drop(\"Cost of Trip\",axis=1)\n",
    "    y=df[\"Cost of Trip\"]\n",
    "    return X,y"
   ]
  },
  {
   "cell_type": "code",
   "execution_count": 25,
   "id": "112b2f15",
   "metadata": {
    "execution": {
     "iopub.execute_input": "2021-10-01T17:20:27.521856Z",
     "iopub.status.busy": "2021-10-01T17:20:27.521211Z",
     "iopub.status.idle": "2021-10-01T17:20:27.535606Z",
     "shell.execute_reply": "2021-10-01T17:20:27.536161Z",
     "shell.execute_reply.started": "2021-10-01T17:12:05.266213Z"
    },
    "papermill": {
     "duration": 0.052079,
     "end_time": "2021-10-01T17:20:27.536333",
     "exception": false,
     "start_time": "2021-10-01T17:20:27.484254",
     "status": "completed"
    },
    "tags": []
   },
   "outputs": [],
   "source": [
    "X_train,y_train=prepro(trainset)"
   ]
  },
  {
   "cell_type": "code",
   "execution_count": 26,
   "id": "857c4290",
   "metadata": {
    "execution": {
     "iopub.execute_input": "2021-10-01T17:20:27.608603Z",
     "iopub.status.busy": "2021-10-01T17:20:27.608033Z",
     "iopub.status.idle": "2021-10-01T17:20:27.615445Z",
     "shell.execute_reply": "2021-10-01T17:20:27.614930Z",
     "shell.execute_reply.started": "2021-10-01T17:16:08.221644Z"
    },
    "papermill": {
     "duration": 0.045069,
     "end_time": "2021-10-01T17:20:27.615578",
     "exception": false,
     "start_time": "2021-10-01T17:20:27.570509",
     "status": "completed"
    },
    "tags": []
   },
   "outputs": [],
   "source": [
    "X_test,y_test=prepro(testset)"
   ]
  },
  {
   "cell_type": "code",
   "execution_count": 27,
   "id": "da7357a2",
   "metadata": {
    "execution": {
     "iopub.execute_input": "2021-10-01T17:20:27.692058Z",
     "iopub.status.busy": "2021-10-01T17:20:27.691044Z",
     "iopub.status.idle": "2021-10-01T17:20:27.693105Z",
     "shell.execute_reply": "2021-10-01T17:20:27.693516Z",
     "shell.execute_reply.started": "2021-10-01T17:18:24.107267Z"
    },
    "papermill": {
     "duration": 0.043318,
     "end_time": "2021-10-01T17:20:27.693681",
     "exception": false,
     "start_time": "2021-10-01T17:20:27.650363",
     "status": "completed"
    },
    "tags": []
   },
   "outputs": [],
   "source": [
    "# preprocessing df\n",
    "numerical_features=make_column_selector(dtype_include=np.number)\n",
    "categorical_features=make_column_selector(dtype_exclude=np.number)\n",
    "numerical_pipeline=make_pipeline(StandardScaler())\n",
    "categorical_pipeline=make_pipeline(OneHotEncoder())\n",
    "preprocessing=make_column_transformer((categorical_pipeline,categorical_features),(numerical_pipeline,numerical_features))"
   ]
  },
  {
   "cell_type": "code",
   "execution_count": 28,
   "id": "c3bcdf49",
   "metadata": {
    "execution": {
     "iopub.execute_input": "2021-10-01T17:20:27.767715Z",
     "iopub.status.busy": "2021-10-01T17:20:27.766963Z",
     "iopub.status.idle": "2021-10-01T17:20:27.769147Z",
     "shell.execute_reply": "2021-10-01T17:20:27.769532Z",
     "shell.execute_reply.started": "2021-10-01T17:18:27.405296Z"
    },
    "papermill": {
     "duration": 0.041277,
     "end_time": "2021-10-01T17:20:27.769698",
     "exception": false,
     "start_time": "2021-10-01T17:20:27.728421",
     "status": "completed"
    },
    "tags": []
   },
   "outputs": [],
   "source": [
    "# create first model\n",
    "linear_regression=make_pipeline(preprocessing,LinearRegression())"
   ]
  },
  {
   "cell_type": "code",
   "execution_count": 29,
   "id": "a4b17ad0",
   "metadata": {
    "execution": {
     "iopub.execute_input": "2021-10-01T17:20:27.845627Z",
     "iopub.status.busy": "2021-10-01T17:20:27.844828Z",
     "iopub.status.idle": "2021-10-01T17:20:27.847738Z",
     "shell.execute_reply": "2021-10-01T17:20:27.847236Z",
     "shell.execute_reply.started": "2021-10-01T17:18:29.492780Z"
    },
    "papermill": {
     "duration": 0.043367,
     "end_time": "2021-10-01T17:20:27.847893",
     "exception": false,
     "start_time": "2021-10-01T17:20:27.804526",
     "status": "completed"
    },
    "tags": []
   },
   "outputs": [],
   "source": [
    "# create evaluation function\n",
    "def evaluation(model):\n",
    "    model.fit(X_train,y_train)\n",
    "    ypred=model.predict(X_test)\n",
    "    print(\"max_error:\",max_error(y_test,ypred))\n",
    "    print(\"mean_absolute_error:\",mean_absolute_error(y_test,ypred))\n",
    "    print(\"root_mean_squared_error:\",np.sqrt(mean_squared_error(y_test,ypred)))\n",
    "    print(\"model_score:\",model.score(X_test,y_test))\n",
    "    \n",
    "    \n",
    "    "
   ]
  },
  {
   "cell_type": "code",
   "execution_count": 30,
   "id": "fb7c24a6",
   "metadata": {
    "execution": {
     "iopub.execute_input": "2021-10-01T17:20:27.994852Z",
     "iopub.status.busy": "2021-10-01T17:20:27.953026Z",
     "iopub.status.idle": "2021-10-01T17:20:28.897036Z",
     "shell.execute_reply": "2021-10-01T17:20:28.896283Z",
     "shell.execute_reply.started": "2021-10-01T17:18:32.091957Z"
    },
    "papermill": {
     "duration": 1.013981,
     "end_time": "2021-10-01T17:20:28.897250",
     "exception": false,
     "start_time": "2021-10-01T17:20:27.883269",
     "status": "completed"
    },
    "tags": []
   },
   "outputs": [
    {
     "name": "stdout",
     "output_type": "stream",
     "text": [
      "max_error: 88.18327289238505\n",
      "mean_absolute_error: 16.541466409174976\n",
      "root_mean_squared_error: 20.96211392767976\n",
      "model_score: 0.9824848831426913\n"
     ]
    }
   ],
   "source": [
    "# test first model\n",
    "evaluation(linear_regression)"
   ]
  },
  {
   "cell_type": "code",
   "execution_count": 31,
   "id": "a7d4eb94",
   "metadata": {
    "execution": {
     "iopub.execute_input": "2021-10-01T17:20:28.972559Z",
     "iopub.status.busy": "2021-10-01T17:20:28.971927Z",
     "iopub.status.idle": "2021-10-01T17:20:28.973698Z",
     "shell.execute_reply": "2021-10-01T17:20:28.974188Z",
     "shell.execute_reply.started": "2021-10-01T17:18:37.861875Z"
    },
    "papermill": {
     "duration": 0.041193,
     "end_time": "2021-10-01T17:20:28.974349",
     "exception": false,
     "start_time": "2021-10-01T17:20:28.933156",
     "status": "completed"
    },
    "tags": []
   },
   "outputs": [],
   "source": [
    "# my conclusion\n",
    "    ## my first model have 98% performance i think it'is very good."
   ]
  },
  {
   "cell_type": "code",
   "execution_count": null,
   "id": "2d367c53",
   "metadata": {
    "papermill": {
     "duration": 0.034207,
     "end_time": "2021-10-01T17:20:29.043682",
     "exception": false,
     "start_time": "2021-10-01T17:20:29.009475",
     "status": "completed"
    },
    "tags": []
   },
   "outputs": [],
   "source": []
  }
 ],
 "metadata": {
  "kernelspec": {
   "display_name": "Python 3",
   "language": "python",
   "name": "python3"
  },
  "language_info": {
   "codemirror_mode": {
    "name": "ipython",
    "version": 3
   },
   "file_extension": ".py",
   "mimetype": "text/x-python",
   "name": "python",
   "nbconvert_exporter": "python",
   "pygments_lexer": "ipython3",
   "version": "3.10.4"
  },
  "papermill": {
   "default_parameters": {},
   "duration": 17.744232,
   "end_time": "2021-10-01T17:20:30.392684",
   "environment_variables": {},
   "exception": null,
   "input_path": "__notebook__.ipynb",
   "output_path": "__notebook__.ipynb",
   "parameters": {},
   "start_time": "2021-10-01T17:20:12.648452",
   "version": "2.3.3"
  }
 },
 "nbformat": 4,
 "nbformat_minor": 5
}
