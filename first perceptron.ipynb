{
 "cells": [
  {
   "cell_type": "markdown",
   "id": "5c2cd019",
   "metadata": {},
   "source": [
    "# perceptron coding workflow\n",
    "\n",
    "## 1 initialisation of parameters(w, b)\n",
    "\n",
    "## 2 iterative algorithm\n",
    "### 2.1 Model function(X,W,b)\n",
    "#### 2.1.1 Linear function(Z=X.W+b)\n",
    "#### 2.1.2 Activation function(A=1/1+e-Z)\n",
    "### 2.2 Evaluation function(A,y)\n",
    "### 2.3 Gradient descent(A,X,y)\n",
    "### 2.4 Update(W,b,dw,db)"
   ]
  },
  {
   "cell_type": "code",
   "execution_count": 1,
   "id": "db1bf054",
   "metadata": {},
   "outputs": [],
   "source": [
    "# import packages"
   ]
  },
  {
   "cell_type": "code",
   "execution_count": 23,
   "id": "b65e3f62",
   "metadata": {},
   "outputs": [],
   "source": [
    "import numpy as np\n",
    "import matplotlib.pyplot as plt\n",
    "from sklearn.datasets import make_blobs\n",
    "from sklearn.metrics import accuracy_score"
   ]
  },
  {
   "cell_type": "code",
   "execution_count": 3,
   "id": "2360ac14",
   "metadata": {},
   "outputs": [],
   "source": [
    "# datasets"
   ]
  },
  {
   "cell_type": "code",
   "execution_count": 6,
   "id": "e2a0b489",
   "metadata": {},
   "outputs": [],
   "source": [
    "X,y=make_blobs(n_samples=100, n_features=2, centers=2, random_state=0)\n",
    "y=y.reshape((y.shape[0],1))"
   ]
  },
  {
   "cell_type": "code",
   "execution_count": 7,
   "id": "eb0c34fe",
   "metadata": {},
   "outputs": [
    {
     "name": "stdout",
     "output_type": "stream",
     "text": [
      "(100, 2)\n"
     ]
    }
   ],
   "source": [
    "print(X.shape)"
   ]
  },
  {
   "cell_type": "code",
   "execution_count": 4,
   "id": "b5e1ccd8",
   "metadata": {},
   "outputs": [
    {
     "name": "stdout",
     "output_type": "stream",
     "text": [
      "(100, 1)\n"
     ]
    }
   ],
   "source": [
    "print(y.shape)"
   ]
  },
  {
   "cell_type": "code",
   "execution_count": 8,
   "id": "44fbb820",
   "metadata": {},
   "outputs": [
    {
     "data": {
      "text/plain": [
       "<matplotlib.collections.PathCollection at 0x236a5d7b7f0>"
      ]
     },
     "execution_count": 8,
     "metadata": {},
     "output_type": "execute_result"
    },
    {
     "data": {
      "image/png": "[encoded data removed]",
      "text/plain": [
       "<Figure size 432x288 with 1 Axes>"
      ]
     },
     "metadata": {
      "needs_background": "light"
     },
     "output_type": "display_data"
    }
   ],
   "source": [
    "plt.scatter(X[:,0],X[:,1], c=y,cmap='summer')"
   ]
  },
  {
   "cell_type": "markdown",
   "id": "f4796060",
   "metadata": {},
   "source": [
    "# Initialization function"
   ]
  },
  {
   "cell_type": "code",
   "execution_count": 9,
   "id": "bda0e35c",
   "metadata": {},
   "outputs": [],
   "source": [
    "def initialization(X):\n",
    "    W=np.random.randn(X.shape[1],1)\n",
    "    b=np.random.randn(1)\n",
    "    return (W,b)"
   ]
  },
  {
   "cell_type": "markdown",
   "id": "de3605e1",
   "metadata": {},
   "source": [
    "# Model function"
   ]
  },
  {
   "cell_type": "code",
   "execution_count": 10,
   "id": "df872a90",
   "metadata": {},
   "outputs": [],
   "source": [
    "def model(X, W, b):\n",
    "    Z=X.dot(W)+b\n",
    "    A=1/(1+np.exp(-Z))\n",
    "    return A"
   ]
  },
  {
   "cell_type": "markdown",
   "id": "fbbbc139",
   "metadata": {},
   "source": [
    "# Cost function"
   ]
  },
  {
   "cell_type": "code",
   "execution_count": 11,
   "id": "d1c1e746",
   "metadata": {},
   "outputs": [],
   "source": [
    "def log_loss(A,y):\n",
    "    return 1/len(y) * np.sum(-y* np.log(A)- (1-y)*np.log(1-A))"
   ]
  },
  {
   "cell_type": "markdown",
   "id": "22787a5c",
   "metadata": {},
   "source": [
    "# Gradiens"
   ]
  },
  {
   "cell_type": "code",
   "execution_count": 12,
   "id": "58a2c60c",
   "metadata": {},
   "outputs": [],
   "source": [
    "def gradients(A,X,y):\n",
    "    dw=1/len(y)*np.dot(X.T, A-y)\n",
    "    db=1/len(y)*np.sum(A-y)\n",
    "    return (dw, db)"
   ]
  },
  {
   "cell_type": "markdown",
   "id": "30381d36",
   "metadata": {},
   "source": [
    "# Update function"
   ]
  },
  {
   "cell_type": "code",
   "execution_count": 13,
   "id": "09e11194",
   "metadata": {},
   "outputs": [],
   "source": [
    "def update(dw, db,W,b,lr):\n",
    "    W=W - lr*dw\n",
    "    b=b-lr*db\n",
    "    return(W,b)"
   ]
  },
  {
   "cell_type": "code",
   "execution_count": 22,
   "id": "a5bfc938",
   "metadata": {},
   "outputs": [],
   "source": [
    "def predict(X,W,b):\n",
    "    A=model(X,W,b)\n",
    "    return A >=0.5"
   ]
  },
  {
   "cell_type": "markdown",
   "id": "fd374c22",
   "metadata": {},
   "source": [
    "# Perceptron"
   ]
  },
  {
   "cell_type": "code",
   "execution_count": 24,
   "id": "1d211f2c",
   "metadata": {},
   "outputs": [],
   "source": [
    "def preceptron(X,y,lr=0.1,n_iter=100):\n",
    "    #initilization\n",
    "    W,b=initialization(X)\n",
    "    Loss=[]\n",
    "    for i in range(n_iter):\n",
    "        A= model(X,W,b)\n",
    "        Loss.append(log_loss(A,y)) \n",
    "        dw,db=gradients(A,X,y)\n",
    "        W,b=update(dw,db,W,b,lr)\n",
    "    y_pred= predict(X,W,b)\n",
    "    print(accuracy_score(y,y_pred))\n",
    "    \n",
    "    plt.plot(Loss)\n"
   ]
  },
  {
   "cell_type": "code",
   "execution_count": 36,
   "id": "7da150f2",
   "metadata": {},
   "outputs": [
    {
     "name": "stdout",
     "output_type": "stream",
     "text": [
      "0.89\n"
     ]
    },
    {
     "data": {
      "image/png": "[encoded data removed]",
      "text/plain": [
       "<Figure size 432x288 with 1 Axes>"
      ]
     },
     "metadata": {
      "needs_background": "light"
     },
     "output_type": "display_data"
    }
   ],
   "source": [
    "preceptron(X,y)"
   ]
  },
  {
   "cell_type": "code",
   "execution_count": null,
   "id": "a09a61d8",
   "metadata": {},
   "outputs": [],
   "source": []
  }
 ],
 "metadata": {
  "kernelspec": {
   "display_name": "virtual",
   "language": "python",
   "name": "virtual"
  },
  "language_info": {
   "codemirror_mode": {
    "name": "ipython",
    "version": 3
   },
   "file_extension": ".py",
   "mimetype": "text/x-python",
   "name": "python",
   "nbconvert_exporter": "python",
   "pygments_lexer": "ipython3",
   "version": "3.10.4"
  }
 },
 "nbformat": 4,
 "nbformat_minor": 5
}
